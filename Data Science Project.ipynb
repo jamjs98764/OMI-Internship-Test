{
 "cells": [
  {
   "cell_type": "markdown",
   "metadata": {},
   "source": [
    "# Data Science Practice\n",
    "\n",
    "This is a data set of kickstarter projects.\n",
    "\n",
    "There are three main questions to consider:\n",
    "- Looking into the dataset, what useful information can you extract from it? **(Exploratory data analysis)**\n",
    "- Can you predict whether a project will get funded successfully or not? **(Prediction)**\n",
    "- Which variables are informative for your prediction? In particular, how will you interpret your model? **(Model explanation)**"
   ]
  },
  {
   "cell_type": "code",
   "execution_count": 1,
   "metadata": {
    "collapsed": true
   },
   "outputs": [],
   "source": [
    "import numpy as np\n",
    "import pandas as pd\n",
    "import seaborn as sns\n",
    "import matplotlib.pyplot as plt\n",
    "%matplotlib inline"
   ]
  },
  {
   "cell_type": "markdown",
   "metadata": {},
   "source": [
    "# Load data"
   ]
  },
  {
   "cell_type": "code",
   "execution_count": 2,
   "metadata": {
    "collapsed": true
   },
   "outputs": [],
   "source": [
    "# Load data with 'latin1' encoding\n",
    "df = pd.read_csv('kick_starter.csv', encoding = \"latin1\", index_col=0)"
   ]
  },
  {
   "cell_type": "code",
   "execution_count": 3,
   "metadata": {},
   "outputs": [
    {
     "data": {
      "text/html": [
       "<div>\n",
       "<style>\n",
       "    .dataframe thead tr:only-child th {\n",
       "        text-align: right;\n",
       "    }\n",
       "\n",
       "    .dataframe thead th {\n",
       "        text-align: left;\n",
       "    }\n",
       "\n",
       "    .dataframe tbody tr th {\n",
       "        vertical-align: top;\n",
       "    }\n",
       "</style>\n",
       "<table border=\"1\" class=\"dataframe\">\n",
       "  <thead>\n",
       "    <tr style=\"text-align: right;\">\n",
       "      <th></th>\n",
       "      <th>id</th>\n",
       "      <th>photo</th>\n",
       "      <th>name</th>\n",
       "      <th>blurb</th>\n",
       "      <th>goal</th>\n",
       "      <th>state</th>\n",
       "      <th>slug</th>\n",
       "      <th>disable_communication</th>\n",
       "      <th>country</th>\n",
       "      <th>currency</th>\n",
       "      <th>...</th>\n",
       "      <th>creator</th>\n",
       "      <th>location</th>\n",
       "      <th>category</th>\n",
       "      <th>profile</th>\n",
       "      <th>urls</th>\n",
       "      <th>source_url</th>\n",
       "      <th>friends</th>\n",
       "      <th>is_starred</th>\n",
       "      <th>is_backing</th>\n",
       "      <th>permissions</th>\n",
       "    </tr>\n",
       "  </thead>\n",
       "  <tbody>\n",
       "    <tr>\n",
       "      <th>0</th>\n",
       "      <td>663816109</td>\n",
       "      <td>{\"small\":\"https://ksr-ugc.imgix.net/assets/012...</td>\n",
       "      <td>Angular - Where Modern Art meets Cards</td>\n",
       "      <td>Angular is a minimalist card design for simpli...</td>\n",
       "      <td>17380.0</td>\n",
       "      <td>failed</td>\n",
       "      <td>angular-where-modern-art-meets-cards</td>\n",
       "      <td>False</td>\n",
       "      <td>US</td>\n",
       "      <td>USD</td>\n",
       "      <td>...</td>\n",
       "      <td>{\"urls\":{\"web\":{\"user\":\"https://www.kickstarte...</td>\n",
       "      <td>{\"country\":\"US\",\"urls\":{\"web\":{\"discover\":\"htt...</td>\n",
       "      <td>{\"urls\":{\"web\":{\"discover\":\"http://www.kicksta...</td>\n",
       "      <td>{\"background_image_opacity\":0.8,\"should_show_f...</td>\n",
       "      <td>{\"web\":{\"project\":\"https://www.kickstarter.com...</td>\n",
       "      <td>https://www.kickstarter.com/discover/categorie...</td>\n",
       "      <td>NaN</td>\n",
       "      <td>NaN</td>\n",
       "      <td>NaN</td>\n",
       "      <td>NaN</td>\n",
       "    </tr>\n",
       "    <tr>\n",
       "      <th>1</th>\n",
       "      <td>1462931821</td>\n",
       "      <td>{\"small\":\"https://ksr-ugc.imgix.net/assets/014...</td>\n",
       "      <td>Ladybeard is KAWAII-CORE</td>\n",
       "      <td>Original songs and music videos to jump start ...</td>\n",
       "      <td>24000.0</td>\n",
       "      <td>failed</td>\n",
       "      <td>ladybeard-is-kawaii-core</td>\n",
       "      <td>False</td>\n",
       "      <td>US</td>\n",
       "      <td>USD</td>\n",
       "      <td>...</td>\n",
       "      <td>{\"urls\":{\"web\":{\"user\":\"https://www.kickstarte...</td>\n",
       "      <td>{\"country\":\"JP\",\"urls\":{\"web\":{\"discover\":\"htt...</td>\n",
       "      <td>{\"urls\":{\"web\":{\"discover\":\"http://www.kicksta...</td>\n",
       "      <td>{\"background_image_opacity\":0.8,\"should_show_f...</td>\n",
       "      <td>{\"web\":{\"project\":\"https://www.kickstarter.com...</td>\n",
       "      <td>https://www.kickstarter.com/discover/categorie...</td>\n",
       "      <td>NaN</td>\n",
       "      <td>NaN</td>\n",
       "      <td>NaN</td>\n",
       "      <td>NaN</td>\n",
       "    </tr>\n",
       "    <tr>\n",
       "      <th>2</th>\n",
       "      <td>1724358498</td>\n",
       "      <td>{\"small\":\"https://ksr-ugc.imgix.net/assets/011...</td>\n",
       "      <td>Vegan Cafe Delivery Service in Vancouver BC</td>\n",
       "      <td>Our project is to launch a vegan lunch deliver...</td>\n",
       "      <td>40000.0</td>\n",
       "      <td>failed</td>\n",
       "      <td>vegancafeca</td>\n",
       "      <td>False</td>\n",
       "      <td>CA</td>\n",
       "      <td>CAD</td>\n",
       "      <td>...</td>\n",
       "      <td>{\"urls\":{\"web\":{\"user\":\"https://www.kickstarte...</td>\n",
       "      <td>{\"country\":\"CA\",\"urls\":{\"web\":{\"discover\":\"htt...</td>\n",
       "      <td>{\"urls\":{\"web\":{\"discover\":\"http://www.kicksta...</td>\n",
       "      <td>{\"background_image_opacity\":0.8,\"should_show_f...</td>\n",
       "      <td>{\"web\":{\"project\":\"https://www.kickstarter.com...</td>\n",
       "      <td>https://www.kickstarter.com/discover/categorie...</td>\n",
       "      <td>NaN</td>\n",
       "      <td>NaN</td>\n",
       "      <td>NaN</td>\n",
       "      <td>NaN</td>\n",
       "    </tr>\n",
       "    <tr>\n",
       "      <th>3</th>\n",
       "      <td>314918941</td>\n",
       "      <td>{\"small\":\"https://ksr-ugc.imgix.net/assets/011...</td>\n",
       "      <td>Photoetched Rail Yard Exposition</td>\n",
       "      <td>I have developed a process of my own which tra...</td>\n",
       "      <td>1000.0</td>\n",
       "      <td>successful</td>\n",
       "      <td>photoetched-rail-yard-exposition</td>\n",
       "      <td>False</td>\n",
       "      <td>US</td>\n",
       "      <td>USD</td>\n",
       "      <td>...</td>\n",
       "      <td>{\"urls\":{\"web\":{\"user\":\"https://www.kickstarte...</td>\n",
       "      <td>{\"country\":\"US\",\"urls\":{\"web\":{\"discover\":\"htt...</td>\n",
       "      <td>{\"urls\":{\"web\":{\"discover\":\"http://www.kicksta...</td>\n",
       "      <td>{\"background_image_opacity\":0.8,\"should_show_f...</td>\n",
       "      <td>{\"web\":{\"project\":\"https://www.kickstarter.com...</td>\n",
       "      <td>https://www.kickstarter.com/discover/categorie...</td>\n",
       "      <td>NaN</td>\n",
       "      <td>NaN</td>\n",
       "      <td>NaN</td>\n",
       "      <td>NaN</td>\n",
       "    </tr>\n",
       "    <tr>\n",
       "      <th>4</th>\n",
       "      <td>1766165140</td>\n",
       "      <td>{\"small\":\"https://ksr-ugc.imgix.net/assets/011...</td>\n",
       "      <td>Cinnamon Fletcher needs to be brought to life!</td>\n",
       "      <td>Need to pay an illustrator to bring my childre...</td>\n",
       "      <td>700.0</td>\n",
       "      <td>failed</td>\n",
       "      <td>cinnamon-fletcher-needs-to-be-brought-to-life</td>\n",
       "      <td>False</td>\n",
       "      <td>GB</td>\n",
       "      <td>GBP</td>\n",
       "      <td>...</td>\n",
       "      <td>{\"urls\":{\"web\":{\"user\":\"https://www.kickstarte...</td>\n",
       "      <td>{\"country\":\"GB\",\"urls\":{\"web\":{\"discover\":\"htt...</td>\n",
       "      <td>{\"urls\":{\"web\":{\"discover\":\"http://www.kicksta...</td>\n",
       "      <td>{\"background_image_opacity\":0.8,\"should_show_f...</td>\n",
       "      <td>{\"web\":{\"project\":\"https://www.kickstarter.com...</td>\n",
       "      <td>https://www.kickstarter.com/discover/categorie...</td>\n",
       "      <td>NaN</td>\n",
       "      <td>NaN</td>\n",
       "      <td>NaN</td>\n",
       "      <td>NaN</td>\n",
       "    </tr>\n",
       "  </tbody>\n",
       "</table>\n",
       "<p>5 rows × 28 columns</p>\n",
       "</div>"
      ],
      "text/plain": [
       "           id                                              photo  \\\n",
       "0   663816109  {\"small\":\"https://ksr-ugc.imgix.net/assets/012...   \n",
       "1  1462931821  {\"small\":\"https://ksr-ugc.imgix.net/assets/014...   \n",
       "2  1724358498  {\"small\":\"https://ksr-ugc.imgix.net/assets/011...   \n",
       "3   314918941  {\"small\":\"https://ksr-ugc.imgix.net/assets/011...   \n",
       "4  1766165140  {\"small\":\"https://ksr-ugc.imgix.net/assets/011...   \n",
       "\n",
       "                                             name  \\\n",
       "0          Angular - Where Modern Art meets Cards   \n",
       "1                        Ladybeard is KAWAII-CORE   \n",
       "2     Vegan Cafe Delivery Service in Vancouver BC   \n",
       "3                Photoetched Rail Yard Exposition   \n",
       "4  Cinnamon Fletcher needs to be brought to life!   \n",
       "\n",
       "                                               blurb     goal       state  \\\n",
       "0  Angular is a minimalist card design for simpli...  17380.0      failed   \n",
       "1  Original songs and music videos to jump start ...  24000.0      failed   \n",
       "2  Our project is to launch a vegan lunch deliver...  40000.0      failed   \n",
       "3  I have developed a process of my own which tra...   1000.0  successful   \n",
       "4  Need to pay an illustrator to bring my childre...    700.0      failed   \n",
       "\n",
       "                                            slug  disable_communication  \\\n",
       "0           angular-where-modern-art-meets-cards                  False   \n",
       "1                       ladybeard-is-kawaii-core                  False   \n",
       "2                                    vegancafeca                  False   \n",
       "3               photoetched-rail-yard-exposition                  False   \n",
       "4  cinnamon-fletcher-needs-to-be-brought-to-life                  False   \n",
       "\n",
       "  country currency     ...      \\\n",
       "0      US      USD     ...       \n",
       "1      US      USD     ...       \n",
       "2      CA      CAD     ...       \n",
       "3      US      USD     ...       \n",
       "4      GB      GBP     ...       \n",
       "\n",
       "                                             creator  \\\n",
       "0  {\"urls\":{\"web\":{\"user\":\"https://www.kickstarte...   \n",
       "1  {\"urls\":{\"web\":{\"user\":\"https://www.kickstarte...   \n",
       "2  {\"urls\":{\"web\":{\"user\":\"https://www.kickstarte...   \n",
       "3  {\"urls\":{\"web\":{\"user\":\"https://www.kickstarte...   \n",
       "4  {\"urls\":{\"web\":{\"user\":\"https://www.kickstarte...   \n",
       "\n",
       "                                            location  \\\n",
       "0  {\"country\":\"US\",\"urls\":{\"web\":{\"discover\":\"htt...   \n",
       "1  {\"country\":\"JP\",\"urls\":{\"web\":{\"discover\":\"htt...   \n",
       "2  {\"country\":\"CA\",\"urls\":{\"web\":{\"discover\":\"htt...   \n",
       "3  {\"country\":\"US\",\"urls\":{\"web\":{\"discover\":\"htt...   \n",
       "4  {\"country\":\"GB\",\"urls\":{\"web\":{\"discover\":\"htt...   \n",
       "\n",
       "                                            category  \\\n",
       "0  {\"urls\":{\"web\":{\"discover\":\"http://www.kicksta...   \n",
       "1  {\"urls\":{\"web\":{\"discover\":\"http://www.kicksta...   \n",
       "2  {\"urls\":{\"web\":{\"discover\":\"http://www.kicksta...   \n",
       "3  {\"urls\":{\"web\":{\"discover\":\"http://www.kicksta...   \n",
       "4  {\"urls\":{\"web\":{\"discover\":\"http://www.kicksta...   \n",
       "\n",
       "                                             profile  \\\n",
       "0  {\"background_image_opacity\":0.8,\"should_show_f...   \n",
       "1  {\"background_image_opacity\":0.8,\"should_show_f...   \n",
       "2  {\"background_image_opacity\":0.8,\"should_show_f...   \n",
       "3  {\"background_image_opacity\":0.8,\"should_show_f...   \n",
       "4  {\"background_image_opacity\":0.8,\"should_show_f...   \n",
       "\n",
       "                                                urls  \\\n",
       "0  {\"web\":{\"project\":\"https://www.kickstarter.com...   \n",
       "1  {\"web\":{\"project\":\"https://www.kickstarter.com...   \n",
       "2  {\"web\":{\"project\":\"https://www.kickstarter.com...   \n",
       "3  {\"web\":{\"project\":\"https://www.kickstarter.com...   \n",
       "4  {\"web\":{\"project\":\"https://www.kickstarter.com...   \n",
       "\n",
       "                                          source_url  friends  is_starred  \\\n",
       "0  https://www.kickstarter.com/discover/categorie...      NaN         NaN   \n",
       "1  https://www.kickstarter.com/discover/categorie...      NaN         NaN   \n",
       "2  https://www.kickstarter.com/discover/categorie...      NaN         NaN   \n",
       "3  https://www.kickstarter.com/discover/categorie...      NaN         NaN   \n",
       "4  https://www.kickstarter.com/discover/categorie...      NaN         NaN   \n",
       "\n",
       "  is_backing permissions  \n",
       "0        NaN         NaN  \n",
       "1        NaN         NaN  \n",
       "2        NaN         NaN  \n",
       "3        NaN         NaN  \n",
       "4        NaN         NaN  \n",
       "\n",
       "[5 rows x 28 columns]"
      ]
     },
     "execution_count": 3,
     "metadata": {},
     "output_type": "execute_result"
    }
   ],
   "source": [
    "df.head()"
   ]
  },
  {
   "cell_type": "markdown",
   "metadata": {},
   "source": [
    "# Describe and clean data"
   ]
  },
  {
   "cell_type": "markdown",
   "metadata": {},
   "source": [
    "The labelled dataset contains 10,000 projects with 28 columns - 27 features and \"state\" (binary outcome). I manually analyzed below which features are likely not very relevant for our task or redundant. Features with missing values may also have to be cleaned."
   ]
  },
  {
   "cell_type": "code",
   "execution_count": 4,
   "metadata": {
    "scrolled": true
   },
   "outputs": [
    {
     "name": "stdout",
     "output_type": "stream",
     "text": [
      "<class 'pandas.core.frame.DataFrame'>\n",
      "Int64Index: 10000 entries, 0 to 9999\n",
      "Data columns (total 28 columns):\n",
      "id                        10000 non-null int64\n",
      "photo                     10000 non-null object\n",
      "name                      9999 non-null object\n",
      "blurb                     9998 non-null object\n",
      "goal                      10000 non-null float64\n",
      "state                     10000 non-null object\n",
      "slug                      10000 non-null object\n",
      "disable_communication     10000 non-null bool\n",
      "country                   9707 non-null object\n",
      "currency                  9707 non-null object\n",
      "currency_trailing_code    10000 non-null bool\n",
      "deadline                  10000 non-null int64\n",
      "state_changed_at          10000 non-null int64\n",
      "created_at                10000 non-null int64\n",
      "launched_at               10000 non-null int64\n",
      "staff_pick                10000 non-null bool\n",
      "backers_count             10000 non-null int64\n",
      "static_usd_rate           10000 non-null float64\n",
      "creator                   10000 non-null object\n",
      "location                  9944 non-null object\n",
      "category                  10000 non-null object\n",
      "profile                   10000 non-null object\n",
      "urls                      10000 non-null object\n",
      "source_url                10000 non-null object\n",
      "friends                   11 non-null object\n",
      "is_starred                11 non-null object\n",
      "is_backing                11 non-null object\n",
      "permissions               11 non-null object\n",
      "dtypes: bool(3), float64(2), int64(6), object(17)\n",
      "memory usage: 2.0+ MB\n"
     ]
    }
   ],
   "source": [
    "df.info()"
   ]
  },
  {
   "cell_type": "markdown",
   "metadata": {},
   "source": [
    "## Remove features"
   ]
  },
  {
   "cell_type": "markdown",
   "metadata": {},
   "source": [
    "The features which I remove are as follows (with reasons in brackets):\n",
    "- id (irrelevant)\n",
    "- photo (deemed irrelevant, though may be area for future work)\n",
    "- currency ('country' generally determines currency, so redundant)\n",
    "- currency_trailing_code (I believe this shows how the currency numbers are displayed)\n",
    "- creator (I don't have any more information about creators. One could potentially scrape the website and see how many successful projects they had and use this information.)\n",
    "- state_changed_at (This information will not be available at the time of project launch)\n",
    "- slug (correlates with name)\n",
    "- location (correlates with 'country', so redundant. The city location may help, but the data for each city is likely too sparse.)\n",
    "- backers_count (This information will not be available at the time of project launch)\n",
    "- urls (irrelevant)\n",
    "- source_url (irrelevant)\n",
    "- profile (irrelevant)\n",
    "- friends (mostly empty data)\n",
    "- is_starred (mostly empty data)\n",
    "- is_backing (mostly empty data)\n",
    "- permissions (mostly empty data)"
   ]
  },
  {
   "cell_type": "markdown",
   "metadata": {},
   "source": [
    "Just to check the four columns 'friends', 'is_starred', 'is_backing', and 'permissions' with mostly empty data are not some special cases which are all successful or all failed, I looked at the projects which have non-NaN values. I found that these projects are mostly live, with one successful. However, it does not look like these features will give us anything."
   ]
  },
  {
   "cell_type": "code",
   "execution_count": 5,
   "metadata": {},
   "outputs": [
    {
     "data": {
      "text/html": [
       "<div>\n",
       "<style>\n",
       "    .dataframe thead tr:only-child th {\n",
       "        text-align: right;\n",
       "    }\n",
       "\n",
       "    .dataframe thead th {\n",
       "        text-align: left;\n",
       "    }\n",
       "\n",
       "    .dataframe tbody tr th {\n",
       "        vertical-align: top;\n",
       "    }\n",
       "</style>\n",
       "<table border=\"1\" class=\"dataframe\">\n",
       "  <thead>\n",
       "    <tr style=\"text-align: right;\">\n",
       "      <th></th>\n",
       "      <th>friends</th>\n",
       "      <th>state</th>\n",
       "    </tr>\n",
       "  </thead>\n",
       "  <tbody>\n",
       "    <tr>\n",
       "      <th>601</th>\n",
       "      <td>[]</td>\n",
       "      <td>live</td>\n",
       "    </tr>\n",
       "    <tr>\n",
       "      <th>605</th>\n",
       "      <td>[]</td>\n",
       "      <td>live</td>\n",
       "    </tr>\n",
       "    <tr>\n",
       "      <th>1223</th>\n",
       "      <td>[]</td>\n",
       "      <td>live</td>\n",
       "    </tr>\n",
       "    <tr>\n",
       "      <th>1744</th>\n",
       "      <td>[]</td>\n",
       "      <td>live</td>\n",
       "    </tr>\n",
       "    <tr>\n",
       "      <th>2586</th>\n",
       "      <td>[]</td>\n",
       "      <td>live</td>\n",
       "    </tr>\n",
       "    <tr>\n",
       "      <th>3006</th>\n",
       "      <td>[]</td>\n",
       "      <td>live</td>\n",
       "    </tr>\n",
       "    <tr>\n",
       "      <th>3566</th>\n",
       "      <td>[]</td>\n",
       "      <td>live</td>\n",
       "    </tr>\n",
       "    <tr>\n",
       "      <th>6900</th>\n",
       "      <td>[]</td>\n",
       "      <td>successful</td>\n",
       "    </tr>\n",
       "    <tr>\n",
       "      <th>7060</th>\n",
       "      <td>[]</td>\n",
       "      <td>live</td>\n",
       "    </tr>\n",
       "    <tr>\n",
       "      <th>7207</th>\n",
       "      <td>[]</td>\n",
       "      <td>live</td>\n",
       "    </tr>\n",
       "    <tr>\n",
       "      <th>7243</th>\n",
       "      <td>[]</td>\n",
       "      <td>live</td>\n",
       "    </tr>\n",
       "  </tbody>\n",
       "</table>\n",
       "</div>"
      ],
      "text/plain": [
       "     friends       state\n",
       "601       []        live\n",
       "605       []        live\n",
       "1223      []        live\n",
       "1744      []        live\n",
       "2586      []        live\n",
       "3006      []        live\n",
       "3566      []        live\n",
       "6900      []  successful\n",
       "7060      []        live\n",
       "7207      []        live\n",
       "7243      []        live"
      ]
     },
     "execution_count": 5,
     "metadata": {},
     "output_type": "execute_result"
    }
   ],
   "source": [
    "column = 'is_backing'\n",
    "column = 'permissions'\n",
    "column = 'is_starred'\n",
    "column = 'friends'\n",
    "df[[column, 'state']].loc[~df[column].isnull()]"
   ]
  },
  {
   "cell_type": "code",
   "execution_count": 6,
   "metadata": {
    "collapsed": true
   },
   "outputs": [],
   "source": [
    "columns_to_drop = ['id', 'photo', 'currency', 'currency_trailing_code', 'creator', 'state_changed_at', 'slug',\n",
    "                   'location', 'backers_count', 'urls', 'source_url', 'profile', 'friends', 'is_starred', 'is_backing',\n",
    "                   'permissions']\n",
    "df.drop(columns_to_drop, axis=1, inplace=True)"
   ]
  },
  {
   "cell_type": "code",
   "execution_count": 7,
   "metadata": {},
   "outputs": [
    {
     "name": "stdout",
     "output_type": "stream",
     "text": [
      "<class 'pandas.core.frame.DataFrame'>\n",
      "Int64Index: 10000 entries, 0 to 9999\n",
      "Data columns (total 12 columns):\n",
      "name                     9999 non-null object\n",
      "blurb                    9998 non-null object\n",
      "goal                     10000 non-null float64\n",
      "state                    10000 non-null object\n",
      "disable_communication    10000 non-null bool\n",
      "country                  9707 non-null object\n",
      "deadline                 10000 non-null int64\n",
      "created_at               10000 non-null int64\n",
      "launched_at              10000 non-null int64\n",
      "staff_pick               10000 non-null bool\n",
      "static_usd_rate          10000 non-null float64\n",
      "category                 10000 non-null object\n",
      "dtypes: bool(2), float64(2), int64(3), object(5)\n",
      "memory usage: 878.9+ KB\n"
     ]
    }
   ],
   "source": [
    "df.info()"
   ]
  },
  {
   "cell_type": "markdown",
   "metadata": {},
   "source": [
    "## Feature engineering"
   ]
  },
  {
   "cell_type": "markdown",
   "metadata": {},
   "source": [
    "(1) I converted some categorical features to numerical ones:\n",
    "    - name -> name_length (number of characters in name)\n",
    "    - blurb -> blurb_length (number of characters in blurb)\n",
    "    - deadline -> fundraising_period (time between launched_at and deadline)\n",
    "    - created_at -> prelaunch_period (time between created_at and launched_at)\n",
    "\n",
    "Empty fields in 'name' and 'blurb' are replaced with 0 rather than column median/average. Empty fields most likely mean minimal effort projects (ie. this feature has importance).\n",
    "\n",
    "One could consider using NLP to analyze the words used and see whether 'better' (more positive?) words helps with prediction, but this is beyond the scope of this project."
   ]
  },
  {
   "cell_type": "code",
   "execution_count": 8,
   "metadata": {
    "collapsed": true
   },
   "outputs": [],
   "source": [
    "# Fill in missing values in 'name' and 'blurb' with empty strings\n",
    "df.name.fillna('', inplace=True)\n",
    "df.blurb.fillna('', inplace=True)\n",
    "\n",
    "# Create 'name_length', 'blurb_length', and 'fundraising_period' features\n",
    "df['name_length'] = df.name.apply(len)\n",
    "df['blurb_length'] = df.blurb.apply(len)\n",
    "df['fundraising_period'] = (df.deadline - df.launched_at) / 3600 / 24  # convert to days for simplicuty\n",
    "df['prelaunch_period'] = (df.launched_at - df.created_at) / 3600 / 24  # convert to days for simplicuty\n",
    "\n",
    "# Drop the old columns\n",
    "df = df.drop(['name', 'blurb', 'deadline'], axis=1)"
   ]
  },
  {
   "cell_type": "markdown",
   "metadata": {},
   "source": [
    "\n",
    "(2) I converted the goal into usd using 'static_usd_rate' and remove 'static_usd_rate'."
   ]
  },
  {
   "cell_type": "code",
   "execution_count": 9,
   "metadata": {
    "collapsed": true
   },
   "outputs": [],
   "source": [
    "df['goal_usd'] = df.goal * df.static_usd_rate\n",
    "\n",
    "df = df.drop(['goal', 'static_usd_rate'], axis=1)"
   ]
  },
  {
   "cell_type": "markdown",
   "metadata": {},
   "source": [
    "(3) I extracted the relevant information from 'category' feature. The relevant category appears to be after 'categories', so I extracted this."
   ]
  },
  {
   "cell_type": "code",
   "execution_count": 10,
   "metadata": {},
   "outputs": [
    {
     "data": {
      "text/plain": [
       "0    {\"urls\":{\"web\":{\"discover\":\"http://www.kicksta...\n",
       "1    {\"urls\":{\"web\":{\"discover\":\"http://www.kicksta...\n",
       "2    {\"urls\":{\"web\":{\"discover\":\"http://www.kicksta...\n",
       "3    {\"urls\":{\"web\":{\"discover\":\"http://www.kicksta...\n",
       "4    {\"urls\":{\"web\":{\"discover\":\"http://www.kicksta...\n",
       "Name: category, dtype: object"
      ]
     },
     "execution_count": 10,
     "metadata": {},
     "output_type": "execute_result"
    }
   ],
   "source": [
    "df.category.head()"
   ]
  },
  {
   "cell_type": "code",
   "execution_count": 11,
   "metadata": {
    "collapsed": true
   },
   "outputs": [],
   "source": [
    "def extract_category(string):\n",
    "    # Find split the string by '/'\n",
    "    split_string = string.split('/')\n",
    "    \n",
    "    # Find the position of 'categories'. The string we seek is after that.\n",
    "    idx = split_string.index('categories')\n",
    "    return split_string[idx + 1]"
   ]
  },
  {
   "cell_type": "code",
   "execution_count": 12,
   "metadata": {
    "collapsed": true
   },
   "outputs": [],
   "source": [
    "df['category'] = df.category.apply(extract_category)"
   ]
  },
  {
   "cell_type": "code",
   "execution_count": 13,
   "metadata": {},
   "outputs": [
    {
     "data": {
      "text/plain": [
       "0         games\n",
       "1         music\n",
       "2          food\n",
       "3           art\n",
       "4    publishing\n",
       "Name: category, dtype: object"
      ]
     },
     "execution_count": 13,
     "metadata": {},
     "output_type": "execute_result"
    }
   ],
   "source": [
    "df.category.head()"
   ]
  },
  {
   "cell_type": "markdown",
   "metadata": {},
   "source": [
    "(4) The last features I created is the weekday, month, and year of launch.\n",
    "Also I want to see whether there are any temporal trends, in particular whether the weekday or month of launch has any influence on success. Intial hypothesis is yes.\n",
    "You could potentially do the same for date of creation, but let's skip this for now.\n",
    "Similarly, you could do this for time of creation (using local time), but it's unlikely this will help.\n",
    "\n",
    "I removed 'launched_at' feature after that."
   ]
  },
  {
   "cell_type": "code",
   "execution_count": 14,
   "metadata": {
    "collapsed": true
   },
   "outputs": [],
   "source": [
    "df['launch_date'] = pd.to_datetime(df['launched_at'],unit='s')\n",
    "\n",
    "df['launch_weekday'] = df.launch_date.apply(lambda x: x.weekday()) # Built-in function: Monday = 0, Sunday = 6\n",
    "df['launch_month'] = df.launch_date.apply(lambda x: x.month)\n",
    "df['launch_year'] = df.launch_date.apply(lambda x: x.year)"
   ]
  },
  {
   "cell_type": "code",
   "execution_count": 15,
   "metadata": {},
   "outputs": [
    {
     "data": {
      "text/plain": [
       "0    6\n",
       "1    0\n",
       "2    0\n",
       "3    4\n",
       "4    1\n",
       "Name: launch_weekday, dtype: int64"
      ]
     },
     "execution_count": 15,
     "metadata": {},
     "output_type": "execute_result"
    }
   ],
   "source": [
    "df.launch_weekday.head()"
   ]
  },
  {
   "cell_type": "code",
   "execution_count": 16,
   "metadata": {},
   "outputs": [
    {
     "data": {
      "text/plain": [
       "array(['failed', 'successful', 'canceled', 'live', 'suspended'], dtype=object)"
      ]
     },
     "execution_count": 16,
     "metadata": {},
     "output_type": "execute_result"
    }
   ],
   "source": [
    "df = df.drop(['launched_at', 'launch_date'], axis=1)\n",
    "df.state.unique()"
   ]
  },
  {
   "cell_type": "markdown",
   "metadata": {},
   "source": [
    "Finally, we change outcome column to 1 (successful) and 0 (failed, cancelled or suspended). Projects which are still live are also removed as they are not correctly labelled yet."
   ]
  },
  {
   "cell_type": "code",
   "execution_count": 17,
   "metadata": {
    "collapsed": true
   },
   "outputs": [],
   "source": [
    "df = df.loc[df.state != 'live']"
   ]
  },
  {
   "cell_type": "code",
   "execution_count": 18,
   "metadata": {
    "collapsed": true
   },
   "outputs": [],
   "source": [
    "df['successful'] = df.state.apply(lambda x: 1 if x == 'successful' else 0)"
   ]
  },
  {
   "cell_type": "code",
   "execution_count": 19,
   "metadata": {},
   "outputs": [
    {
     "name": "stdout",
     "output_type": "stream",
     "text": [
      "<class 'pandas.core.frame.DataFrame'>\n",
      "Int64Index: 9821 entries, 0 to 9999\n",
      "Data columns (total 15 columns):\n",
      "state                    9821 non-null object\n",
      "disable_communication    9821 non-null bool\n",
      "country                  9533 non-null object\n",
      "created_at               9821 non-null int64\n",
      "staff_pick               9821 non-null bool\n",
      "category                 9821 non-null object\n",
      "name_length              9821 non-null int64\n",
      "blurb_length             9821 non-null int64\n",
      "fundraising_period       9821 non-null float64\n",
      "prelaunch_period         9821 non-null float64\n",
      "goal_usd                 9821 non-null float64\n",
      "launch_weekday           9821 non-null int64\n",
      "launch_month             9821 non-null int64\n",
      "launch_year              9821 non-null int64\n",
      "successful               9821 non-null int64\n",
      "dtypes: bool(2), float64(3), int64(7), object(3)\n",
      "memory usage: 1.1+ MB\n"
     ]
    }
   ],
   "source": [
    "df.info()"
   ]
  },
  {
   "cell_type": "markdown",
   "metadata": {},
   "source": [
    "## Data Cleaning Summary"
   ]
  },
  {
   "cell_type": "markdown",
   "metadata": {},
   "source": [
    "To summarize, data cleaned has 12 features:\n",
    "\n",
    "Categorical features (7):\n",
    "- category\n",
    "- country\n",
    "- staff_pick\n",
    "- disable_communication\n",
    "- launch_weekday\n",
    "- launch_month\n",
    "- launch_year\n",
    "\n",
    "Numerical features (5):\n",
    "- name_length\n",
    "- blurb_length\n",
    "- goal_usd\n",
    "- fundraising_period\n",
    "- prelaunch_period\n",
    "\n",
    "Prediction:\n",
    "- successful/fail"
   ]
  },
  {
   "cell_type": "markdown",
   "metadata": {},
   "source": [
    "# Exploratory data analysis"
   ]
  },
  {
   "cell_type": "markdown",
   "metadata": {},
   "source": [
    "I now investigate each feature more closely to see whether they are really relevant."
   ]
  },
  {
   "cell_type": "code",
   "execution_count": 20,
   "metadata": {},
   "outputs": [
    {
     "data": {
      "text/html": [
       "<div>\n",
       "<style>\n",
       "    .dataframe thead tr:only-child th {\n",
       "        text-align: right;\n",
       "    }\n",
       "\n",
       "    .dataframe thead th {\n",
       "        text-align: left;\n",
       "    }\n",
       "\n",
       "    .dataframe tbody tr th {\n",
       "        vertical-align: top;\n",
       "    }\n",
       "</style>\n",
       "<table border=\"1\" class=\"dataframe\">\n",
       "  <thead>\n",
       "    <tr style=\"text-align: right;\">\n",
       "      <th></th>\n",
       "      <th>created_at</th>\n",
       "      <th>name_length</th>\n",
       "      <th>blurb_length</th>\n",
       "      <th>fundraising_period</th>\n",
       "      <th>prelaunch_period</th>\n",
       "      <th>goal_usd</th>\n",
       "      <th>launch_weekday</th>\n",
       "      <th>launch_month</th>\n",
       "      <th>launch_year</th>\n",
       "      <th>successful</th>\n",
       "    </tr>\n",
       "  </thead>\n",
       "  <tbody>\n",
       "    <tr>\n",
       "      <th>count</th>\n",
       "      <td>9.821000e+03</td>\n",
       "      <td>9821.000000</td>\n",
       "      <td>9821.000000</td>\n",
       "      <td>9821.000000</td>\n",
       "      <td>9821.000000</td>\n",
       "      <td>9.821000e+03</td>\n",
       "      <td>9821.000000</td>\n",
       "      <td>9821.000000</td>\n",
       "      <td>9821.000000</td>\n",
       "      <td>9821.000000</td>\n",
       "    </tr>\n",
       "    <tr>\n",
       "      <th>mean</th>\n",
       "      <td>1.400410e+09</td>\n",
       "      <td>34.226454</td>\n",
       "      <td>114.272885</td>\n",
       "      <td>33.946243</td>\n",
       "      <td>39.935111</td>\n",
       "      <td>2.670844e+04</td>\n",
       "      <td>2.421546</td>\n",
       "      <td>6.279707</td>\n",
       "      <td>2014.007739</td>\n",
       "      <td>0.463191</td>\n",
       "    </tr>\n",
       "    <tr>\n",
       "      <th>std</th>\n",
       "      <td>5.505099e+07</td>\n",
       "      <td>15.788458</td>\n",
       "      <td>25.838549</td>\n",
       "      <td>12.686718</td>\n",
       "      <td>102.423317</td>\n",
       "      <td>2.710011e+05</td>\n",
       "      <td>1.785287</td>\n",
       "      <td>3.319243</td>\n",
       "      <td>1.779248</td>\n",
       "      <td>0.498669</td>\n",
       "    </tr>\n",
       "    <tr>\n",
       "      <th>min</th>\n",
       "      <td>1.240335e+09</td>\n",
       "      <td>0.000000</td>\n",
       "      <td>0.000000</td>\n",
       "      <td>1.550509</td>\n",
       "      <td>0.003426</td>\n",
       "      <td>7.615334e-01</td>\n",
       "      <td>0.000000</td>\n",
       "      <td>1.000000</td>\n",
       "      <td>2009.000000</td>\n",
       "      <td>0.000000</td>\n",
       "    </tr>\n",
       "    <tr>\n",
       "      <th>25%</th>\n",
       "      <td>1.359293e+09</td>\n",
       "      <td>21.000000</td>\n",
       "      <td>105.000000</td>\n",
       "      <td>30.000000</td>\n",
       "      <td>2.592870</td>\n",
       "      <td>1.800000e+03</td>\n",
       "      <td>1.000000</td>\n",
       "      <td>3.000000</td>\n",
       "      <td>2013.000000</td>\n",
       "      <td>0.000000</td>\n",
       "    </tr>\n",
       "    <tr>\n",
       "      <th>50%</th>\n",
       "      <td>1.408728e+09</td>\n",
       "      <td>33.000000</td>\n",
       "      <td>125.000000</td>\n",
       "      <td>30.000000</td>\n",
       "      <td>9.747593</td>\n",
       "      <td>5.000000e+03</td>\n",
       "      <td>2.000000</td>\n",
       "      <td>6.000000</td>\n",
       "      <td>2014.000000</td>\n",
       "      <td>0.000000</td>\n",
       "    </tr>\n",
       "    <tr>\n",
       "      <th>75%</th>\n",
       "      <td>1.441211e+09</td>\n",
       "      <td>48.000000</td>\n",
       "      <td>132.000000</td>\n",
       "      <td>35.557488</td>\n",
       "      <td>32.061065</td>\n",
       "      <td>1.250000e+04</td>\n",
       "      <td>4.000000</td>\n",
       "      <td>9.000000</td>\n",
       "      <td>2015.000000</td>\n",
       "      <td>1.000000</td>\n",
       "    </tr>\n",
       "    <tr>\n",
       "      <th>max</th>\n",
       "      <td>1.498894e+09</td>\n",
       "      <td>85.000000</td>\n",
       "      <td>158.000000</td>\n",
       "      <td>91.958333</td>\n",
       "      <td>1696.396632</td>\n",
       "      <td>1.500000e+07</td>\n",
       "      <td>6.000000</td>\n",
       "      <td>12.000000</td>\n",
       "      <td>2017.000000</td>\n",
       "      <td>1.000000</td>\n",
       "    </tr>\n",
       "  </tbody>\n",
       "</table>\n",
       "</div>"
      ],
      "text/plain": [
       "         created_at  name_length  blurb_length  fundraising_period  \\\n",
       "count  9.821000e+03  9821.000000   9821.000000         9821.000000   \n",
       "mean   1.400410e+09    34.226454    114.272885           33.946243   \n",
       "std    5.505099e+07    15.788458     25.838549           12.686718   \n",
       "min    1.240335e+09     0.000000      0.000000            1.550509   \n",
       "25%    1.359293e+09    21.000000    105.000000           30.000000   \n",
       "50%    1.408728e+09    33.000000    125.000000           30.000000   \n",
       "75%    1.441211e+09    48.000000    132.000000           35.557488   \n",
       "max    1.498894e+09    85.000000    158.000000           91.958333   \n",
       "\n",
       "       prelaunch_period      goal_usd  launch_weekday  launch_month  \\\n",
       "count       9821.000000  9.821000e+03     9821.000000   9821.000000   \n",
       "mean          39.935111  2.670844e+04        2.421546      6.279707   \n",
       "std          102.423317  2.710011e+05        1.785287      3.319243   \n",
       "min            0.003426  7.615334e-01        0.000000      1.000000   \n",
       "25%            2.592870  1.800000e+03        1.000000      3.000000   \n",
       "50%            9.747593  5.000000e+03        2.000000      6.000000   \n",
       "75%           32.061065  1.250000e+04        4.000000      9.000000   \n",
       "max         1696.396632  1.500000e+07        6.000000     12.000000   \n",
       "\n",
       "       launch_year   successful  \n",
       "count  9821.000000  9821.000000  \n",
       "mean   2014.007739     0.463191  \n",
       "std       1.779248     0.498669  \n",
       "min    2009.000000     0.000000  \n",
       "25%    2013.000000     0.000000  \n",
       "50%    2014.000000     0.000000  \n",
       "75%    2015.000000     1.000000  \n",
       "max    2017.000000     1.000000  "
      ]
     },
     "execution_count": 20,
     "metadata": {},
     "output_type": "execute_result"
    }
   ],
   "source": [
    "df.describe()"
   ]
  },
  {
   "cell_type": "markdown",
   "metadata": {},
   "source": [
    "The mean success rate is 0.46."
   ]
  },
  {
   "cell_type": "markdown",
   "metadata": {},
   "source": [
    "## Analyzing the categorical features"
   ]
  },
  {
   "cell_type": "code",
   "execution_count": 21,
   "metadata": {},
   "outputs": [
    {
     "data": {
      "text/html": [
       "<div>\n",
       "<style>\n",
       "    .dataframe thead tr:only-child th {\n",
       "        text-align: right;\n",
       "    }\n",
       "\n",
       "    .dataframe thead th {\n",
       "        text-align: left;\n",
       "    }\n",
       "\n",
       "    .dataframe tbody tr th {\n",
       "        vertical-align: top;\n",
       "    }\n",
       "</style>\n",
       "<table border=\"1\" class=\"dataframe\">\n",
       "  <thead>\n",
       "    <tr style=\"text-align: right;\">\n",
       "      <th></th>\n",
       "      <th>state</th>\n",
       "      <th>country</th>\n",
       "      <th>category</th>\n",
       "    </tr>\n",
       "  </thead>\n",
       "  <tbody>\n",
       "    <tr>\n",
       "      <th>count</th>\n",
       "      <td>9821</td>\n",
       "      <td>9533</td>\n",
       "      <td>9821</td>\n",
       "    </tr>\n",
       "    <tr>\n",
       "      <th>unique</th>\n",
       "      <td>4</td>\n",
       "      <td>20</td>\n",
       "      <td>14</td>\n",
       "    </tr>\n",
       "    <tr>\n",
       "      <th>top</th>\n",
       "      <td>failed</td>\n",
       "      <td>US</td>\n",
       "      <td>music</td>\n",
       "    </tr>\n",
       "    <tr>\n",
       "      <th>freq</th>\n",
       "      <td>4631</td>\n",
       "      <td>7683</td>\n",
       "      <td>1988</td>\n",
       "    </tr>\n",
       "  </tbody>\n",
       "</table>\n",
       "</div>"
      ],
      "text/plain": [
       "         state country category\n",
       "count     9821    9533     9821\n",
       "unique       4      20       14\n",
       "top     failed      US    music\n",
       "freq      4631    7683     1988"
      ]
     },
     "execution_count": 21,
     "metadata": {},
     "output_type": "execute_result"
    }
   ],
   "source": [
    "df.describe(include=['O'])"
   ]
  },
  {
   "cell_type": "markdown",
   "metadata": {},
   "source": [
    "Many countries, but most of them in the US. 14 different project categories."
   ]
  },
  {
   "cell_type": "code",
   "execution_count": 22,
   "metadata": {},
   "outputs": [
    {
     "data": {
      "text/html": [
       "<div>\n",
       "<style>\n",
       "    .dataframe thead tr:only-child th {\n",
       "        text-align: right;\n",
       "    }\n",
       "\n",
       "    .dataframe thead th {\n",
       "        text-align: left;\n",
       "    }\n",
       "\n",
       "    .dataframe tbody tr th {\n",
       "        vertical-align: top;\n",
       "    }\n",
       "</style>\n",
       "<table border=\"1\" class=\"dataframe\">\n",
       "  <thead>\n",
       "    <tr style=\"text-align: right;\">\n",
       "      <th></th>\n",
       "      <th>disable_communication</th>\n",
       "      <th>staff_pick</th>\n",
       "    </tr>\n",
       "  </thead>\n",
       "  <tbody>\n",
       "    <tr>\n",
       "      <th>count</th>\n",
       "      <td>9821</td>\n",
       "      <td>9821</td>\n",
       "    </tr>\n",
       "    <tr>\n",
       "      <th>unique</th>\n",
       "      <td>2</td>\n",
       "      <td>2</td>\n",
       "    </tr>\n",
       "    <tr>\n",
       "      <th>top</th>\n",
       "      <td>False</td>\n",
       "      <td>False</td>\n",
       "    </tr>\n",
       "    <tr>\n",
       "      <th>freq</th>\n",
       "      <td>9781</td>\n",
       "      <td>8699</td>\n",
       "    </tr>\n",
       "  </tbody>\n",
       "</table>\n",
       "</div>"
      ],
      "text/plain": [
       "       disable_communication staff_pick\n",
       "count                   9821       9821\n",
       "unique                     2          2\n",
       "top                    False      False\n",
       "freq                    9781       8699"
      ]
     },
     "execution_count": 22,
     "metadata": {},
     "output_type": "execute_result"
    }
   ],
   "source": [
    "df.describe(include=['bool'])"
   ]
  },
  {
   "cell_type": "markdown",
   "metadata": {},
   "source": [
    "Most projects allowed communication. Only 40 did not. Staff picked around 10% of the projects, although it is unclear whether as a project proposer we have any influence on whether staff can pick your project."
   ]
  },
  {
   "cell_type": "code",
   "execution_count": 23,
   "metadata": {},
   "outputs": [
    {
     "data": {
      "text/html": [
       "<div>\n",
       "<style>\n",
       "    .dataframe thead tr:only-child th {\n",
       "        text-align: right;\n",
       "    }\n",
       "\n",
       "    .dataframe thead th {\n",
       "        text-align: left;\n",
       "    }\n",
       "\n",
       "    .dataframe tbody tr th {\n",
       "        vertical-align: top;\n",
       "    }\n",
       "</style>\n",
       "<table border=\"1\" class=\"dataframe\">\n",
       "  <thead>\n",
       "    <tr style=\"text-align: right;\">\n",
       "      <th></th>\n",
       "      <th>disable_communication</th>\n",
       "      <th>successful</th>\n",
       "    </tr>\n",
       "  </thead>\n",
       "  <tbody>\n",
       "    <tr>\n",
       "      <th>0</th>\n",
       "      <td>False</td>\n",
       "      <td>0.465085</td>\n",
       "    </tr>\n",
       "    <tr>\n",
       "      <th>1</th>\n",
       "      <td>True</td>\n",
       "      <td>0.000000</td>\n",
       "    </tr>\n",
       "  </tbody>\n",
       "</table>\n",
       "</div>"
      ],
      "text/plain": [
       "   disable_communication  successful\n",
       "0                  False    0.465085\n",
       "1                   True    0.000000"
      ]
     },
     "execution_count": 23,
     "metadata": {},
     "output_type": "execute_result"
    }
   ],
   "source": [
    "column = 'disable_communication'\n",
    "df[[column, 'successful']].groupby([column], as_index=False).mean().sort_values(by='successful', ascending=False)"
   ]
  },
  {
   "cell_type": "markdown",
   "metadata": {},
   "source": [
    "Projects in which the communication was disabled were never successful."
   ]
  },
  {
   "cell_type": "code",
   "execution_count": 24,
   "metadata": {},
   "outputs": [
    {
     "data": {
      "text/html": [
       "<div>\n",
       "<style>\n",
       "    .dataframe thead tr:only-child th {\n",
       "        text-align: right;\n",
       "    }\n",
       "\n",
       "    .dataframe thead th {\n",
       "        text-align: left;\n",
       "    }\n",
       "\n",
       "    .dataframe tbody tr th {\n",
       "        vertical-align: top;\n",
       "    }\n",
       "</style>\n",
       "<table border=\"1\" class=\"dataframe\">\n",
       "  <thead>\n",
       "    <tr style=\"text-align: right;\">\n",
       "      <th></th>\n",
       "      <th>staff_pick</th>\n",
       "      <th>successful</th>\n",
       "    </tr>\n",
       "  </thead>\n",
       "  <tbody>\n",
       "    <tr>\n",
       "      <th>1</th>\n",
       "      <td>True</td>\n",
       "      <td>0.850267</td>\n",
       "    </tr>\n",
       "    <tr>\n",
       "      <th>0</th>\n",
       "      <td>False</td>\n",
       "      <td>0.413266</td>\n",
       "    </tr>\n",
       "  </tbody>\n",
       "</table>\n",
       "</div>"
      ],
      "text/plain": [
       "   staff_pick  successful\n",
       "1        True    0.850267\n",
       "0       False    0.413266"
      ]
     },
     "execution_count": 24,
     "metadata": {},
     "output_type": "execute_result"
    }
   ],
   "source": [
    "column = 'staff_pick'\n",
    "df[[column, 'successful']].groupby([column], as_index=False).mean().sort_values(by='successful', ascending=False)"
   ]
  },
  {
   "cell_type": "markdown",
   "metadata": {},
   "source": [
    "Projects that were picked by staff were a lot more successful, as expected."
   ]
  },
  {
   "cell_type": "code",
   "execution_count": 25,
   "metadata": {},
   "outputs": [
    {
     "data": {
      "text/html": [
       "<div>\n",
       "<style>\n",
       "    .dataframe thead tr:only-child th {\n",
       "        text-align: right;\n",
       "    }\n",
       "\n",
       "    .dataframe thead th {\n",
       "        text-align: left;\n",
       "    }\n",
       "\n",
       "    .dataframe tbody tr th {\n",
       "        vertical-align: top;\n",
       "    }\n",
       "</style>\n",
       "<table border=\"1\" class=\"dataframe\">\n",
       "  <thead>\n",
       "    <tr style=\"text-align: right;\">\n",
       "      <th></th>\n",
       "      <th>successful</th>\n",
       "      <th>count</th>\n",
       "    </tr>\n",
       "    <tr>\n",
       "      <th>country</th>\n",
       "      <th></th>\n",
       "      <th></th>\n",
       "    </tr>\n",
       "  </thead>\n",
       "  <tbody>\n",
       "    <tr>\n",
       "      <th>US</th>\n",
       "      <td>0.481192</td>\n",
       "      <td>7683</td>\n",
       "    </tr>\n",
       "    <tr>\n",
       "      <th>DK</th>\n",
       "      <td>0.461538</td>\n",
       "      <td>13</td>\n",
       "    </tr>\n",
       "    <tr>\n",
       "      <th>SE</th>\n",
       "      <td>0.461538</td>\n",
       "      <td>39</td>\n",
       "    </tr>\n",
       "    <tr>\n",
       "      <th>IE</th>\n",
       "      <td>0.444444</td>\n",
       "      <td>18</td>\n",
       "    </tr>\n",
       "    <tr>\n",
       "      <th>GB</th>\n",
       "      <td>0.432051</td>\n",
       "      <td>780</td>\n",
       "    </tr>\n",
       "    <tr>\n",
       "      <th>CH</th>\n",
       "      <td>0.428571</td>\n",
       "      <td>14</td>\n",
       "    </tr>\n",
       "    <tr>\n",
       "      <th>FR</th>\n",
       "      <td>0.410714</td>\n",
       "      <td>56</td>\n",
       "    </tr>\n",
       "    <tr>\n",
       "      <th>NZ</th>\n",
       "      <td>0.409091</td>\n",
       "      <td>44</td>\n",
       "    </tr>\n",
       "    <tr>\n",
       "      <th>CA</th>\n",
       "      <td>0.398907</td>\n",
       "      <td>366</td>\n",
       "    </tr>\n",
       "    <tr>\n",
       "      <th>NO</th>\n",
       "      <td>0.375000</td>\n",
       "      <td>24</td>\n",
       "    </tr>\n",
       "    <tr>\n",
       "      <th>BE</th>\n",
       "      <td>0.357143</td>\n",
       "      <td>14</td>\n",
       "    </tr>\n",
       "    <tr>\n",
       "      <th>AU</th>\n",
       "      <td>0.340909</td>\n",
       "      <td>176</td>\n",
       "    </tr>\n",
       "    <tr>\n",
       "      <th>MX</th>\n",
       "      <td>0.300000</td>\n",
       "      <td>20</td>\n",
       "    </tr>\n",
       "    <tr>\n",
       "      <th>NL</th>\n",
       "      <td>0.285714</td>\n",
       "      <td>70</td>\n",
       "    </tr>\n",
       "    <tr>\n",
       "      <th>DE</th>\n",
       "      <td>0.250000</td>\n",
       "      <td>92</td>\n",
       "    </tr>\n",
       "    <tr>\n",
       "      <th>ES</th>\n",
       "      <td>0.238095</td>\n",
       "      <td>42</td>\n",
       "    </tr>\n",
       "    <tr>\n",
       "      <th>IT</th>\n",
       "      <td>0.132353</td>\n",
       "      <td>68</td>\n",
       "    </tr>\n",
       "    <tr>\n",
       "      <th>AT</th>\n",
       "      <td>0.125000</td>\n",
       "      <td>8</td>\n",
       "    </tr>\n",
       "    <tr>\n",
       "      <th>SG</th>\n",
       "      <td>0.000000</td>\n",
       "      <td>3</td>\n",
       "    </tr>\n",
       "    <tr>\n",
       "      <th>HK</th>\n",
       "      <td>0.000000</td>\n",
       "      <td>3</td>\n",
       "    </tr>\n",
       "  </tbody>\n",
       "</table>\n",
       "</div>"
      ],
      "text/plain": [
       "         successful  count\n",
       "country                   \n",
       "US         0.481192   7683\n",
       "DK         0.461538     13\n",
       "SE         0.461538     39\n",
       "IE         0.444444     18\n",
       "GB         0.432051    780\n",
       "CH         0.428571     14\n",
       "FR         0.410714     56\n",
       "NZ         0.409091     44\n",
       "CA         0.398907    366\n",
       "NO         0.375000     24\n",
       "BE         0.357143     14\n",
       "AU         0.340909    176\n",
       "MX         0.300000     20\n",
       "NL         0.285714     70\n",
       "DE         0.250000     92\n",
       "ES         0.238095     42\n",
       "IT         0.132353     68\n",
       "AT         0.125000      8\n",
       "SG         0.000000      3\n",
       "HK         0.000000      3"
      ]
     },
     "execution_count": 25,
     "metadata": {},
     "output_type": "execute_result"
    }
   ],
   "source": [
    "column = 'country'\n",
    "df_slice = df[[column, 'successful']].groupby([column]).mean().sort_values(by='successful', ascending=False)\n",
    "df_slice['count'] = df[column].value_counts()\n",
    "df_slice"
   ]
  },
  {
   "cell_type": "markdown",
   "metadata": {},
   "source": [
    "On average American, Swedish, and British projects are most successfuly, but their values are very close around the mean. Projects from certain other countries have been largely unsucessful (Spanish, Austria, Italian, Singapore, Hong Kong). The country of the proposed location therefore is relevant as well."
   ]
  },
  {
   "cell_type": "code",
   "execution_count": 26,
   "metadata": {},
   "outputs": [
    {
     "data": {
      "text/html": [
       "<div>\n",
       "<style>\n",
       "    .dataframe thead tr:only-child th {\n",
       "        text-align: right;\n",
       "    }\n",
       "\n",
       "    .dataframe thead th {\n",
       "        text-align: left;\n",
       "    }\n",
       "\n",
       "    .dataframe tbody tr th {\n",
       "        vertical-align: top;\n",
       "    }\n",
       "</style>\n",
       "<table border=\"1\" class=\"dataframe\">\n",
       "  <thead>\n",
       "    <tr style=\"text-align: right;\">\n",
       "      <th></th>\n",
       "      <th>successful</th>\n",
       "      <th>count</th>\n",
       "    </tr>\n",
       "    <tr>\n",
       "      <th>category</th>\n",
       "      <th></th>\n",
       "      <th></th>\n",
       "    </tr>\n",
       "  </thead>\n",
       "  <tbody>\n",
       "    <tr>\n",
       "      <th>design</th>\n",
       "      <td>0.700413</td>\n",
       "      <td>484</td>\n",
       "    </tr>\n",
       "    <tr>\n",
       "      <th>dance</th>\n",
       "      <td>0.621951</td>\n",
       "      <td>82</td>\n",
       "    </tr>\n",
       "    <tr>\n",
       "      <th>comics</th>\n",
       "      <td>0.587302</td>\n",
       "      <td>315</td>\n",
       "    </tr>\n",
       "    <tr>\n",
       "      <th>games</th>\n",
       "      <td>0.547591</td>\n",
       "      <td>851</td>\n",
       "    </tr>\n",
       "    <tr>\n",
       "      <th>music</th>\n",
       "      <td>0.531187</td>\n",
       "      <td>1988</td>\n",
       "    </tr>\n",
       "    <tr>\n",
       "      <th>film%20&amp;%20video</th>\n",
       "      <td>0.522175</td>\n",
       "      <td>1894</td>\n",
       "    </tr>\n",
       "    <tr>\n",
       "      <th>publishing</th>\n",
       "      <td>0.454984</td>\n",
       "      <td>1244</td>\n",
       "    </tr>\n",
       "    <tr>\n",
       "      <th>art</th>\n",
       "      <td>0.447974</td>\n",
       "      <td>913</td>\n",
       "    </tr>\n",
       "    <tr>\n",
       "      <th>photography</th>\n",
       "      <td>0.315353</td>\n",
       "      <td>241</td>\n",
       "    </tr>\n",
       "    <tr>\n",
       "      <th>fashion</th>\n",
       "      <td>0.254344</td>\n",
       "      <td>633</td>\n",
       "    </tr>\n",
       "    <tr>\n",
       "      <th>food</th>\n",
       "      <td>0.233073</td>\n",
       "      <td>768</td>\n",
       "    </tr>\n",
       "    <tr>\n",
       "      <th>crafts</th>\n",
       "      <td>0.210762</td>\n",
       "      <td>223</td>\n",
       "    </tr>\n",
       "    <tr>\n",
       "      <th>journalism</th>\n",
       "      <td>0.150602</td>\n",
       "      <td>166</td>\n",
       "    </tr>\n",
       "    <tr>\n",
       "      <th>technology</th>\n",
       "      <td>0.000000</td>\n",
       "      <td>19</td>\n",
       "    </tr>\n",
       "  </tbody>\n",
       "</table>\n",
       "</div>"
      ],
      "text/plain": [
       "                  successful  count\n",
       "category                           \n",
       "design              0.700413    484\n",
       "dance               0.621951     82\n",
       "comics              0.587302    315\n",
       "games               0.547591    851\n",
       "music               0.531187   1988\n",
       "film%20&%20video    0.522175   1894\n",
       "publishing          0.454984   1244\n",
       "art                 0.447974    913\n",
       "photography         0.315353    241\n",
       "fashion             0.254344    633\n",
       "food                0.233073    768\n",
       "crafts              0.210762    223\n",
       "journalism          0.150602    166\n",
       "technology          0.000000     19"
      ]
     },
     "execution_count": 26,
     "metadata": {},
     "output_type": "execute_result"
    }
   ],
   "source": [
    "column = 'category'\n",
    "df_slice = df[[column, 'successful']].groupby([column]).mean().sort_values(by='successful', ascending=False)\n",
    "df_slice['count'] = df[column].value_counts()\n",
    "df_slice"
   ]
  },
  {
   "cell_type": "markdown",
   "metadata": {},
   "source": [
    "We can also see that the success rate depends on the type/category of project."
   ]
  },
  {
   "cell_type": "code",
   "execution_count": 27,
   "metadata": {},
   "outputs": [
    {
     "data": {
      "text/html": [
       "<div>\n",
       "<style>\n",
       "    .dataframe thead tr:only-child th {\n",
       "        text-align: right;\n",
       "    }\n",
       "\n",
       "    .dataframe thead th {\n",
       "        text-align: left;\n",
       "    }\n",
       "\n",
       "    .dataframe tbody tr th {\n",
       "        vertical-align: top;\n",
       "    }\n",
       "</style>\n",
       "<table border=\"1\" class=\"dataframe\">\n",
       "  <thead>\n",
       "    <tr style=\"text-align: right;\">\n",
       "      <th></th>\n",
       "      <th>successful</th>\n",
       "      <th>count</th>\n",
       "    </tr>\n",
       "    <tr>\n",
       "      <th>launch_weekday</th>\n",
       "      <th></th>\n",
       "      <th></th>\n",
       "    </tr>\n",
       "  </thead>\n",
       "  <tbody>\n",
       "    <tr>\n",
       "      <th>1</th>\n",
       "      <td>0.482292</td>\n",
       "      <td>1920</td>\n",
       "    </tr>\n",
       "    <tr>\n",
       "      <th>3</th>\n",
       "      <td>0.479194</td>\n",
       "      <td>1538</td>\n",
       "    </tr>\n",
       "    <tr>\n",
       "      <th>2</th>\n",
       "      <td>0.465527</td>\n",
       "      <td>1755</td>\n",
       "    </tr>\n",
       "    <tr>\n",
       "      <th>4</th>\n",
       "      <td>0.457627</td>\n",
       "      <td>1534</td>\n",
       "    </tr>\n",
       "    <tr>\n",
       "      <th>5</th>\n",
       "      <td>0.448148</td>\n",
       "      <td>810</td>\n",
       "    </tr>\n",
       "    <tr>\n",
       "      <th>0</th>\n",
       "      <td>0.446770</td>\n",
       "      <td>1672</td>\n",
       "    </tr>\n",
       "    <tr>\n",
       "      <th>6</th>\n",
       "      <td>0.434122</td>\n",
       "      <td>592</td>\n",
       "    </tr>\n",
       "  </tbody>\n",
       "</table>\n",
       "</div>"
      ],
      "text/plain": [
       "                successful  count\n",
       "launch_weekday                   \n",
       "1                 0.482292   1920\n",
       "3                 0.479194   1538\n",
       "2                 0.465527   1755\n",
       "4                 0.457627   1534\n",
       "5                 0.448148    810\n",
       "0                 0.446770   1672\n",
       "6                 0.434122    592"
      ]
     },
     "execution_count": 27,
     "metadata": {},
     "output_type": "execute_result"
    }
   ],
   "source": [
    "column = 'launch_weekday'\n",
    "df_slice = df[[column, 'successful']].groupby([column]).mean().sort_values(by='successful', ascending=False)\n",
    "df_slice['count'] = df[column].value_counts()\n",
    "df_slice"
   ]
  },
  {
   "cell_type": "markdown",
   "metadata": {},
   "source": [
    "There are a few variations in weekday, but perhaps not significant enough?\n",
    "Tuesday - Thursday have slightly higher success rate"
   ]
  },
  {
   "cell_type": "code",
   "execution_count": 28,
   "metadata": {},
   "outputs": [
    {
     "data": {
      "text/html": [
       "<div>\n",
       "<style>\n",
       "    .dataframe thead tr:only-child th {\n",
       "        text-align: right;\n",
       "    }\n",
       "\n",
       "    .dataframe thead th {\n",
       "        text-align: left;\n",
       "    }\n",
       "\n",
       "    .dataframe tbody tr th {\n",
       "        vertical-align: top;\n",
       "    }\n",
       "</style>\n",
       "<table border=\"1\" class=\"dataframe\">\n",
       "  <thead>\n",
       "    <tr style=\"text-align: right;\">\n",
       "      <th></th>\n",
       "      <th>successful</th>\n",
       "      <th>count</th>\n",
       "    </tr>\n",
       "    <tr>\n",
       "      <th>launch_month</th>\n",
       "      <th></th>\n",
       "      <th></th>\n",
       "    </tr>\n",
       "  </thead>\n",
       "  <tbody>\n",
       "    <tr>\n",
       "      <th>4</th>\n",
       "      <td>0.519494</td>\n",
       "      <td>949</td>\n",
       "    </tr>\n",
       "    <tr>\n",
       "      <th>3</th>\n",
       "      <td>0.496192</td>\n",
       "      <td>919</td>\n",
       "    </tr>\n",
       "    <tr>\n",
       "      <th>10</th>\n",
       "      <td>0.494505</td>\n",
       "      <td>728</td>\n",
       "    </tr>\n",
       "    <tr>\n",
       "      <th>9</th>\n",
       "      <td>0.486683</td>\n",
       "      <td>826</td>\n",
       "    </tr>\n",
       "    <tr>\n",
       "      <th>6</th>\n",
       "      <td>0.480050</td>\n",
       "      <td>802</td>\n",
       "    </tr>\n",
       "    <tr>\n",
       "      <th>5</th>\n",
       "      <td>0.459521</td>\n",
       "      <td>877</td>\n",
       "    </tr>\n",
       "    <tr>\n",
       "      <th>2</th>\n",
       "      <td>0.456311</td>\n",
       "      <td>824</td>\n",
       "    </tr>\n",
       "    <tr>\n",
       "      <th>11</th>\n",
       "      <td>0.454892</td>\n",
       "      <td>787</td>\n",
       "    </tr>\n",
       "    <tr>\n",
       "      <th>1</th>\n",
       "      <td>0.445466</td>\n",
       "      <td>761</td>\n",
       "    </tr>\n",
       "    <tr>\n",
       "      <th>12</th>\n",
       "      <td>0.430052</td>\n",
       "      <td>579</td>\n",
       "    </tr>\n",
       "    <tr>\n",
       "      <th>8</th>\n",
       "      <td>0.424877</td>\n",
       "      <td>812</td>\n",
       "    </tr>\n",
       "    <tr>\n",
       "      <th>7</th>\n",
       "      <td>0.400209</td>\n",
       "      <td>957</td>\n",
       "    </tr>\n",
       "  </tbody>\n",
       "</table>\n",
       "</div>"
      ],
      "text/plain": [
       "              successful  count\n",
       "launch_month                   \n",
       "4               0.519494    949\n",
       "3               0.496192    919\n",
       "10              0.494505    728\n",
       "9               0.486683    826\n",
       "6               0.480050    802\n",
       "5               0.459521    877\n",
       "2               0.456311    824\n",
       "11              0.454892    787\n",
       "1               0.445466    761\n",
       "12              0.430052    579\n",
       "8               0.424877    812\n",
       "7               0.400209    957"
      ]
     },
     "execution_count": 28,
     "metadata": {},
     "output_type": "execute_result"
    }
   ],
   "source": [
    "column = 'launch_month'\n",
    "df_slice = df[[column, 'successful']].groupby([column]).mean().sort_values(by='successful', ascending=False)\n",
    "df_slice['count'] = df[column].value_counts()\n",
    "df_slice"
   ]
  },
  {
   "cell_type": "markdown",
   "metadata": {},
   "source": [
    "Some months are more successful than others. In particular, the summer months (June, July, August) are particularly unsuccessful. Let's band the months together by season?"
   ]
  },
  {
   "cell_type": "code",
   "execution_count": 29,
   "metadata": {
    "collapsed": true
   },
   "outputs": [],
   "source": [
    "def month_to_season(month):\n",
    "    if month in [12, 1, 2]:\n",
    "        return 0  # winter\n",
    "    elif month in [3, 4, 5]:\n",
    "        return 1  # spring\n",
    "    elif month in [6, 7, 8]:\n",
    "        return 2  # summer\n",
    "    elif month in [9, 10, 11]:\n",
    "        return 3  # autumn\n",
    "\n",
    "df['launch_season'] = df.launch_month.map(month_to_season)"
   ]
  },
  {
   "cell_type": "code",
   "execution_count": 30,
   "metadata": {},
   "outputs": [
    {
     "data": {
      "text/html": [
       "<div>\n",
       "<style>\n",
       "    .dataframe thead tr:only-child th {\n",
       "        text-align: right;\n",
       "    }\n",
       "\n",
       "    .dataframe thead th {\n",
       "        text-align: left;\n",
       "    }\n",
       "\n",
       "    .dataframe tbody tr th {\n",
       "        vertical-align: top;\n",
       "    }\n",
       "</style>\n",
       "<table border=\"1\" class=\"dataframe\">\n",
       "  <thead>\n",
       "    <tr style=\"text-align: right;\">\n",
       "      <th></th>\n",
       "      <th>successful</th>\n",
       "      <th>count</th>\n",
       "    </tr>\n",
       "    <tr>\n",
       "      <th>launch_season</th>\n",
       "      <th></th>\n",
       "      <th></th>\n",
       "    </tr>\n",
       "  </thead>\n",
       "  <tbody>\n",
       "    <tr>\n",
       "      <th>1</th>\n",
       "      <td>0.492532</td>\n",
       "      <td>2745</td>\n",
       "    </tr>\n",
       "    <tr>\n",
       "      <th>3</th>\n",
       "      <td>0.478428</td>\n",
       "      <td>2341</td>\n",
       "    </tr>\n",
       "    <tr>\n",
       "      <th>0</th>\n",
       "      <td>0.445471</td>\n",
       "      <td>2164</td>\n",
       "    </tr>\n",
       "    <tr>\n",
       "      <th>2</th>\n",
       "      <td>0.432905</td>\n",
       "      <td>2571</td>\n",
       "    </tr>\n",
       "  </tbody>\n",
       "</table>\n",
       "</div>"
      ],
      "text/plain": [
       "               successful  count\n",
       "launch_season                   \n",
       "1                0.492532   2745\n",
       "3                0.478428   2341\n",
       "0                0.445471   2164\n",
       "2                0.432905   2571"
      ]
     },
     "execution_count": 30,
     "metadata": {},
     "output_type": "execute_result"
    }
   ],
   "source": [
    "column = 'launch_season'\n",
    "df_slice = df[[column, 'successful']].groupby([column]).mean().sort_values(by='successful', ascending=False)\n",
    "df_slice['count'] = df[column].value_counts()\n",
    "df_slice"
   ]
  },
  {
   "cell_type": "code",
   "execution_count": 31,
   "metadata": {},
   "outputs": [
    {
     "data": {
      "text/html": [
       "<div>\n",
       "<style>\n",
       "    .dataframe thead tr:only-child th {\n",
       "        text-align: right;\n",
       "    }\n",
       "\n",
       "    .dataframe thead th {\n",
       "        text-align: left;\n",
       "    }\n",
       "\n",
       "    .dataframe tbody tr th {\n",
       "        vertical-align: top;\n",
       "    }\n",
       "</style>\n",
       "<table border=\"1\" class=\"dataframe\">\n",
       "  <thead>\n",
       "    <tr style=\"text-align: right;\">\n",
       "      <th></th>\n",
       "      <th>successful</th>\n",
       "      <th>count</th>\n",
       "    </tr>\n",
       "    <tr>\n",
       "      <th>launch_year</th>\n",
       "      <th></th>\n",
       "      <th></th>\n",
       "    </tr>\n",
       "  </thead>\n",
       "  <tbody>\n",
       "    <tr>\n",
       "      <th>2009</th>\n",
       "      <td>0.590909</td>\n",
       "      <td>44</td>\n",
       "    </tr>\n",
       "    <tr>\n",
       "      <th>2011</th>\n",
       "      <td>0.589102</td>\n",
       "      <td>679</td>\n",
       "    </tr>\n",
       "    <tr>\n",
       "      <th>2012</th>\n",
       "      <td>0.577778</td>\n",
       "      <td>1215</td>\n",
       "    </tr>\n",
       "    <tr>\n",
       "      <th>2010</th>\n",
       "      <td>0.575092</td>\n",
       "      <td>273</td>\n",
       "    </tr>\n",
       "    <tr>\n",
       "      <th>2013</th>\n",
       "      <td>0.568951</td>\n",
       "      <td>1211</td>\n",
       "    </tr>\n",
       "    <tr>\n",
       "      <th>2017</th>\n",
       "      <td>0.436036</td>\n",
       "      <td>555</td>\n",
       "    </tr>\n",
       "    <tr>\n",
       "      <th>2014</th>\n",
       "      <td>0.431772</td>\n",
       "      <td>1964</td>\n",
       "    </tr>\n",
       "    <tr>\n",
       "      <th>2016</th>\n",
       "      <td>0.394477</td>\n",
       "      <td>1521</td>\n",
       "    </tr>\n",
       "    <tr>\n",
       "      <th>2015</th>\n",
       "      <td>0.375159</td>\n",
       "      <td>2359</td>\n",
       "    </tr>\n",
       "  </tbody>\n",
       "</table>\n",
       "</div>"
      ],
      "text/plain": [
       "             successful  count\n",
       "launch_year                   \n",
       "2009           0.590909     44\n",
       "2011           0.589102    679\n",
       "2012           0.577778   1215\n",
       "2010           0.575092    273\n",
       "2013           0.568951   1211\n",
       "2017           0.436036    555\n",
       "2014           0.431772   1964\n",
       "2016           0.394477   1521\n",
       "2015           0.375159   2359"
      ]
     },
     "execution_count": 31,
     "metadata": {},
     "output_type": "execute_result"
    }
   ],
   "source": [
    "column = 'launch_year'\n",
    "df_slice = df[[column, 'successful']].groupby([column]).mean().sort_values(by='successful', ascending=False)\n",
    "df_slice['count'] = df[column].value_counts()\n",
    "df_slice"
   ]
  },
  {
   "cell_type": "markdown",
   "metadata": {},
   "source": [
    "Earlier projects have been more successful, but this may be due to less projects being proposed at that time."
   ]
  },
  {
   "cell_type": "markdown",
   "metadata": {},
   "source": [
    "**Decisions**\n",
    "\n",
    "Consider country, category, disable_communication, and staff_pick for model training.\n",
    "\n",
    "Also consider launch_weekday and launch_season. (Perhaps not in first round of training)"
   ]
  },
  {
   "cell_type": "markdown",
   "metadata": {},
   "source": [
    "## Analyzing the numerical features"
   ]
  },
  {
   "cell_type": "code",
   "execution_count": 32,
   "metadata": {},
   "outputs": [
    {
     "data": {
      "text/html": [
       "<div>\n",
       "<style>\n",
       "    .dataframe thead tr:only-child th {\n",
       "        text-align: right;\n",
       "    }\n",
       "\n",
       "    .dataframe thead th {\n",
       "        text-align: left;\n",
       "    }\n",
       "\n",
       "    .dataframe tbody tr th {\n",
       "        vertical-align: top;\n",
       "    }\n",
       "</style>\n",
       "<table border=\"1\" class=\"dataframe\">\n",
       "  <thead>\n",
       "    <tr style=\"text-align: right;\">\n",
       "      <th></th>\n",
       "      <th>created_at</th>\n",
       "      <th>name_length</th>\n",
       "      <th>blurb_length</th>\n",
       "      <th>fundraising_period</th>\n",
       "      <th>prelaunch_period</th>\n",
       "      <th>goal_usd</th>\n",
       "      <th>launch_weekday</th>\n",
       "      <th>launch_month</th>\n",
       "      <th>launch_year</th>\n",
       "      <th>successful</th>\n",
       "      <th>launch_season</th>\n",
       "    </tr>\n",
       "  </thead>\n",
       "  <tbody>\n",
       "    <tr>\n",
       "      <th>count</th>\n",
       "      <td>9.821000e+03</td>\n",
       "      <td>9821.000000</td>\n",
       "      <td>9821.000000</td>\n",
       "      <td>9821.000000</td>\n",
       "      <td>9821.000000</td>\n",
       "      <td>9.821000e+03</td>\n",
       "      <td>9821.000000</td>\n",
       "      <td>9821.000000</td>\n",
       "      <td>9821.000000</td>\n",
       "      <td>9821.000000</td>\n",
       "      <td>9821.000000</td>\n",
       "    </tr>\n",
       "    <tr>\n",
       "      <th>mean</th>\n",
       "      <td>1.400410e+09</td>\n",
       "      <td>34.226454</td>\n",
       "      <td>114.272885</td>\n",
       "      <td>33.946243</td>\n",
       "      <td>39.935111</td>\n",
       "      <td>2.670844e+04</td>\n",
       "      <td>2.421546</td>\n",
       "      <td>6.279707</td>\n",
       "      <td>2014.007739</td>\n",
       "      <td>0.463191</td>\n",
       "      <td>1.518175</td>\n",
       "    </tr>\n",
       "    <tr>\n",
       "      <th>std</th>\n",
       "      <td>5.505099e+07</td>\n",
       "      <td>15.788458</td>\n",
       "      <td>25.838549</td>\n",
       "      <td>12.686718</td>\n",
       "      <td>102.423317</td>\n",
       "      <td>2.710011e+05</td>\n",
       "      <td>1.785287</td>\n",
       "      <td>3.319243</td>\n",
       "      <td>1.779248</td>\n",
       "      <td>0.498669</td>\n",
       "      <td>1.080375</td>\n",
       "    </tr>\n",
       "    <tr>\n",
       "      <th>min</th>\n",
       "      <td>1.240335e+09</td>\n",
       "      <td>0.000000</td>\n",
       "      <td>0.000000</td>\n",
       "      <td>1.550509</td>\n",
       "      <td>0.003426</td>\n",
       "      <td>7.615334e-01</td>\n",
       "      <td>0.000000</td>\n",
       "      <td>1.000000</td>\n",
       "      <td>2009.000000</td>\n",
       "      <td>0.000000</td>\n",
       "      <td>0.000000</td>\n",
       "    </tr>\n",
       "    <tr>\n",
       "      <th>10%</th>\n",
       "      <td>1.321952e+09</td>\n",
       "      <td>14.000000</td>\n",
       "      <td>75.000000</td>\n",
       "      <td>21.000579</td>\n",
       "      <td>0.409271</td>\n",
       "      <td>6.000000e+02</td>\n",
       "      <td>0.000000</td>\n",
       "      <td>2.000000</td>\n",
       "      <td>2011.000000</td>\n",
       "      <td>0.000000</td>\n",
       "      <td>0.000000</td>\n",
       "    </tr>\n",
       "    <tr>\n",
       "      <th>20%</th>\n",
       "      <td>1.345275e+09</td>\n",
       "      <td>19.000000</td>\n",
       "      <td>97.000000</td>\n",
       "      <td>29.958333</td>\n",
       "      <td>1.806875</td>\n",
       "      <td>1.277807e+03</td>\n",
       "      <td>1.000000</td>\n",
       "      <td>3.000000</td>\n",
       "      <td>2012.000000</td>\n",
       "      <td>0.000000</td>\n",
       "      <td>0.000000</td>\n",
       "    </tr>\n",
       "    <tr>\n",
       "      <th>30%</th>\n",
       "      <td>1.371356e+09</td>\n",
       "      <td>23.000000</td>\n",
       "      <td>110.000000</td>\n",
       "      <td>30.000000</td>\n",
       "      <td>3.552523</td>\n",
       "      <td>2.227447e+03</td>\n",
       "      <td>1.000000</td>\n",
       "      <td>4.000000</td>\n",
       "      <td>2013.000000</td>\n",
       "      <td>0.000000</td>\n",
       "      <td>1.000000</td>\n",
       "    </tr>\n",
       "    <tr>\n",
       "      <th>40%</th>\n",
       "      <td>1.395445e+09</td>\n",
       "      <td>28.000000</td>\n",
       "      <td>119.000000</td>\n",
       "      <td>30.000000</td>\n",
       "      <td>5.961435</td>\n",
       "      <td>3.500000e+03</td>\n",
       "      <td>2.000000</td>\n",
       "      <td>5.000000</td>\n",
       "      <td>2014.000000</td>\n",
       "      <td>0.000000</td>\n",
       "      <td>1.000000</td>\n",
       "    </tr>\n",
       "    <tr>\n",
       "      <th>50%</th>\n",
       "      <td>1.408728e+09</td>\n",
       "      <td>33.000000</td>\n",
       "      <td>125.000000</td>\n",
       "      <td>30.000000</td>\n",
       "      <td>9.747593</td>\n",
       "      <td>5.000000e+03</td>\n",
       "      <td>2.000000</td>\n",
       "      <td>6.000000</td>\n",
       "      <td>2014.000000</td>\n",
       "      <td>0.000000</td>\n",
       "      <td>2.000000</td>\n",
       "    </tr>\n",
       "    <tr>\n",
       "      <th>60%</th>\n",
       "      <td>1.422768e+09</td>\n",
       "      <td>38.000000</td>\n",
       "      <td>129.000000</td>\n",
       "      <td>30.000000</td>\n",
       "      <td>15.296991</td>\n",
       "      <td>7.000000e+03</td>\n",
       "      <td>3.000000</td>\n",
       "      <td>7.000000</td>\n",
       "      <td>2015.000000</td>\n",
       "      <td>1.000000</td>\n",
       "      <td>2.000000</td>\n",
       "    </tr>\n",
       "    <tr>\n",
       "      <th>70%</th>\n",
       "      <td>1.433946e+09</td>\n",
       "      <td>45.000000</td>\n",
       "      <td>131.000000</td>\n",
       "      <td>32.501366</td>\n",
       "      <td>24.225116</td>\n",
       "      <td>1.000000e+04</td>\n",
       "      <td>3.000000</td>\n",
       "      <td>8.000000</td>\n",
       "      <td>2015.000000</td>\n",
       "      <td>1.000000</td>\n",
       "      <td>2.000000</td>\n",
       "    </tr>\n",
       "    <tr>\n",
       "      <th>80%</th>\n",
       "      <td>1.449827e+09</td>\n",
       "      <td>51.000000</td>\n",
       "      <td>133.000000</td>\n",
       "      <td>40.976840</td>\n",
       "      <td>42.388380</td>\n",
       "      <td>1.650000e+04</td>\n",
       "      <td>4.000000</td>\n",
       "      <td>10.000000</td>\n",
       "      <td>2016.000000</td>\n",
       "      <td>1.000000</td>\n",
       "      <td>3.000000</td>\n",
       "    </tr>\n",
       "    <tr>\n",
       "      <th>90%</th>\n",
       "      <td>1.468601e+09</td>\n",
       "      <td>57.000000</td>\n",
       "      <td>135.000000</td>\n",
       "      <td>59.465914</td>\n",
       "      <td>93.188032</td>\n",
       "      <td>3.175648e+04</td>\n",
       "      <td>5.000000</td>\n",
       "      <td>11.000000</td>\n",
       "      <td>2016.000000</td>\n",
       "      <td>1.000000</td>\n",
       "      <td>3.000000</td>\n",
       "    </tr>\n",
       "    <tr>\n",
       "      <th>99%</th>\n",
       "      <td>1.493207e+09</td>\n",
       "      <td>61.000000</td>\n",
       "      <td>144.800000</td>\n",
       "      <td>65.047639</td>\n",
       "      <td>512.224502</td>\n",
       "      <td>3.500000e+05</td>\n",
       "      <td>6.000000</td>\n",
       "      <td>12.000000</td>\n",
       "      <td>2017.000000</td>\n",
       "      <td>1.000000</td>\n",
       "      <td>3.000000</td>\n",
       "    </tr>\n",
       "    <tr>\n",
       "      <th>max</th>\n",
       "      <td>1.498894e+09</td>\n",
       "      <td>85.000000</td>\n",
       "      <td>158.000000</td>\n",
       "      <td>91.958333</td>\n",
       "      <td>1696.396632</td>\n",
       "      <td>1.500000e+07</td>\n",
       "      <td>6.000000</td>\n",
       "      <td>12.000000</td>\n",
       "      <td>2017.000000</td>\n",
       "      <td>1.000000</td>\n",
       "      <td>3.000000</td>\n",
       "    </tr>\n",
       "  </tbody>\n",
       "</table>\n",
       "</div>"
      ],
      "text/plain": [
       "         created_at  name_length  blurb_length  fundraising_period  \\\n",
       "count  9.821000e+03  9821.000000   9821.000000         9821.000000   \n",
       "mean   1.400410e+09    34.226454    114.272885           33.946243   \n",
       "std    5.505099e+07    15.788458     25.838549           12.686718   \n",
       "min    1.240335e+09     0.000000      0.000000            1.550509   \n",
       "10%    1.321952e+09    14.000000     75.000000           21.000579   \n",
       "20%    1.345275e+09    19.000000     97.000000           29.958333   \n",
       "30%    1.371356e+09    23.000000    110.000000           30.000000   \n",
       "40%    1.395445e+09    28.000000    119.000000           30.000000   \n",
       "50%    1.408728e+09    33.000000    125.000000           30.000000   \n",
       "60%    1.422768e+09    38.000000    129.000000           30.000000   \n",
       "70%    1.433946e+09    45.000000    131.000000           32.501366   \n",
       "80%    1.449827e+09    51.000000    133.000000           40.976840   \n",
       "90%    1.468601e+09    57.000000    135.000000           59.465914   \n",
       "99%    1.493207e+09    61.000000    144.800000           65.047639   \n",
       "max    1.498894e+09    85.000000    158.000000           91.958333   \n",
       "\n",
       "       prelaunch_period      goal_usd  launch_weekday  launch_month  \\\n",
       "count       9821.000000  9.821000e+03     9821.000000   9821.000000   \n",
       "mean          39.935111  2.670844e+04        2.421546      6.279707   \n",
       "std          102.423317  2.710011e+05        1.785287      3.319243   \n",
       "min            0.003426  7.615334e-01        0.000000      1.000000   \n",
       "10%            0.409271  6.000000e+02        0.000000      2.000000   \n",
       "20%            1.806875  1.277807e+03        1.000000      3.000000   \n",
       "30%            3.552523  2.227447e+03        1.000000      4.000000   \n",
       "40%            5.961435  3.500000e+03        2.000000      5.000000   \n",
       "50%            9.747593  5.000000e+03        2.000000      6.000000   \n",
       "60%           15.296991  7.000000e+03        3.000000      7.000000   \n",
       "70%           24.225116  1.000000e+04        3.000000      8.000000   \n",
       "80%           42.388380  1.650000e+04        4.000000     10.000000   \n",
       "90%           93.188032  3.175648e+04        5.000000     11.000000   \n",
       "99%          512.224502  3.500000e+05        6.000000     12.000000   \n",
       "max         1696.396632  1.500000e+07        6.000000     12.000000   \n",
       "\n",
       "       launch_year   successful  launch_season  \n",
       "count  9821.000000  9821.000000    9821.000000  \n",
       "mean   2014.007739     0.463191       1.518175  \n",
       "std       1.779248     0.498669       1.080375  \n",
       "min    2009.000000     0.000000       0.000000  \n",
       "10%    2011.000000     0.000000       0.000000  \n",
       "20%    2012.000000     0.000000       0.000000  \n",
       "30%    2013.000000     0.000000       1.000000  \n",
       "40%    2014.000000     0.000000       1.000000  \n",
       "50%    2014.000000     0.000000       2.000000  \n",
       "60%    2015.000000     1.000000       2.000000  \n",
       "70%    2015.000000     1.000000       2.000000  \n",
       "80%    2016.000000     1.000000       3.000000  \n",
       "90%    2016.000000     1.000000       3.000000  \n",
       "99%    2017.000000     1.000000       3.000000  \n",
       "max    2017.000000     1.000000       3.000000  "
      ]
     },
     "execution_count": 32,
     "metadata": {},
     "output_type": "execute_result"
    }
   ],
   "source": [
    "df.describe(percentiles=[.1, .2, .3, .4, .5, .6, .7, .8, .9, .99])"
   ]
  },
  {
   "cell_type": "markdown",
   "metadata": {},
   "source": [
    "There are some outliers in prelaunch_period (with 500 days) and goal_usd (with 15 million goal)."
   ]
  },
  {
   "cell_type": "code",
   "execution_count": 33,
   "metadata": {},
   "outputs": [
    {
     "data": {
      "text/html": [
       "<div>\n",
       "<style>\n",
       "    .dataframe thead tr:only-child th {\n",
       "        text-align: right;\n",
       "    }\n",
       "\n",
       "    .dataframe thead th {\n",
       "        text-align: left;\n",
       "    }\n",
       "\n",
       "    .dataframe tbody tr th {\n",
       "        vertical-align: top;\n",
       "    }\n",
       "</style>\n",
       "<table border=\"1\" class=\"dataframe\">\n",
       "  <thead>\n",
       "    <tr style=\"text-align: right;\">\n",
       "      <th></th>\n",
       "      <th>successful</th>\n",
       "      <th>name_length</th>\n",
       "    </tr>\n",
       "  </thead>\n",
       "  <tbody>\n",
       "    <tr>\n",
       "      <th>0</th>\n",
       "      <td>0</td>\n",
       "      <td>33.144347</td>\n",
       "    </tr>\n",
       "    <tr>\n",
       "      <th>1</th>\n",
       "      <td>1</td>\n",
       "      <td>35.480545</td>\n",
       "    </tr>\n",
       "  </tbody>\n",
       "</table>\n",
       "</div>"
      ],
      "text/plain": [
       "   successful  name_length\n",
       "0           0    33.144347\n",
       "1           1    35.480545"
      ]
     },
     "execution_count": 33,
     "metadata": {},
     "output_type": "execute_result"
    },
    {
     "data": {
      "image/png": "[encoded data removed]",
      "text/plain": [
       "<matplotlib.figure.Figure at 0x267086b44a8>"
      ]
     },
     "metadata": {},
     "output_type": "display_data"
    }
   ],
   "source": [
    "column = 'name_length'\n",
    "g = sns.FacetGrid(df, col='successful')\n",
    "g.map(plt.hist, column, bins=20, normed=True)\n",
    "df[[column, 'successful']].groupby(['successful'], as_index=False).mean()"
   ]
  },
  {
   "cell_type": "markdown",
   "metadata": {},
   "source": [
    "There are more successful projects with slightly longer names."
   ]
  },
  {
   "cell_type": "code",
   "execution_count": 34,
   "metadata": {
    "scrolled": true
   },
   "outputs": [
    {
     "data": {
      "text/html": [
       "<div>\n",
       "<style>\n",
       "    .dataframe thead tr:only-child th {\n",
       "        text-align: right;\n",
       "    }\n",
       "\n",
       "    .dataframe thead th {\n",
       "        text-align: left;\n",
       "    }\n",
       "\n",
       "    .dataframe tbody tr th {\n",
       "        vertical-align: top;\n",
       "    }\n",
       "</style>\n",
       "<table border=\"1\" class=\"dataframe\">\n",
       "  <thead>\n",
       "    <tr style=\"text-align: right;\">\n",
       "      <th></th>\n",
       "      <th>successful</th>\n",
       "      <th>blurb_length</th>\n",
       "    </tr>\n",
       "  </thead>\n",
       "  <tbody>\n",
       "    <tr>\n",
       "      <th>0</th>\n",
       "      <td>0</td>\n",
       "      <td>113.324924</td>\n",
       "    </tr>\n",
       "    <tr>\n",
       "      <th>1</th>\n",
       "      <td>1</td>\n",
       "      <td>115.371510</td>\n",
       "    </tr>\n",
       "  </tbody>\n",
       "</table>\n",
       "</div>"
      ],
      "text/plain": [
       "   successful  blurb_length\n",
       "0           0    113.324924\n",
       "1           1    115.371510"
      ]
     },
     "execution_count": 34,
     "metadata": {},
     "output_type": "execute_result"
    },
    {
     "data": {
      "image/png": "[encoded data removed]",
      "text/plain": [
       "<matplotlib.figure.Figure at 0x267088db320>"
      ]
     },
     "metadata": {},
     "output_type": "display_data"
    }
   ],
   "source": [
    "column = 'blurb_length'\n",
    "g = sns.FacetGrid(df, col='successful')\n",
    "g.map(plt.hist, column, bins=20, normed=True)\n",
    "df[[column, 'successful']].groupby(['successful'], as_index=False).mean()"
   ]
  },
  {
   "cell_type": "code",
   "execution_count": 35,
   "metadata": {},
   "outputs": [
    {
     "data": {
      "text/html": [
       "<div>\n",
       "<style>\n",
       "    .dataframe thead tr:only-child th {\n",
       "        text-align: right;\n",
       "    }\n",
       "\n",
       "    .dataframe thead th {\n",
       "        text-align: left;\n",
       "    }\n",
       "\n",
       "    .dataframe tbody tr th {\n",
       "        vertical-align: top;\n",
       "    }\n",
       "</style>\n",
       "<table border=\"1\" class=\"dataframe\">\n",
       "  <thead>\n",
       "    <tr style=\"text-align: right;\">\n",
       "      <th></th>\n",
       "      <th>successful</th>\n",
       "      <th>fundraising_period</th>\n",
       "    </tr>\n",
       "  </thead>\n",
       "  <tbody>\n",
       "    <tr>\n",
       "      <th>0</th>\n",
       "      <td>0</td>\n",
       "      <td>35.362885</td>\n",
       "    </tr>\n",
       "    <tr>\n",
       "      <th>1</th>\n",
       "      <td>1</td>\n",
       "      <td>32.304446</td>\n",
       "    </tr>\n",
       "  </tbody>\n",
       "</table>\n",
       "</div>"
      ],
      "text/plain": [
       "   successful  fundraising_period\n",
       "0           0           35.362885\n",
       "1           1           32.304446"
      ]
     },
     "execution_count": 35,
     "metadata": {},
     "output_type": "execute_result"
    },
    {
     "data": {
      "image/png": "[encoded data removed]",
      "text/plain": [
       "<matplotlib.figure.Figure at 0x26708aa3208>"
      ]
     },
     "metadata": {},
     "output_type": "display_data"
    }
   ],
   "source": [
    "column = 'fundraising_period'\n",
    "g = sns.FacetGrid(df, col='successful')\n",
    "g.map(plt.hist, column, bins=20, normed=True)\n",
    "df[[column, 'successful']].groupby(['successful'], as_index=False).mean()"
   ]
  },
  {
   "cell_type": "markdown",
   "metadata": {},
   "source": [
    "blurb_length and fundraising period do not seem to matter as much. There is spike for 60 days for unsuccessful projects. But this may be because these projects were extended? (I am not sure whether that is possible on Kickstarter)"
   ]
  },
  {
   "cell_type": "code",
   "execution_count": 36,
   "metadata": {},
   "outputs": [
    {
     "data": {
      "text/html": [
       "<div>\n",
       "<style>\n",
       "    .dataframe thead tr:only-child th {\n",
       "        text-align: right;\n",
       "    }\n",
       "\n",
       "    .dataframe thead th {\n",
       "        text-align: left;\n",
       "    }\n",
       "\n",
       "    .dataframe tbody tr th {\n",
       "        vertical-align: top;\n",
       "    }\n",
       "</style>\n",
       "<table border=\"1\" class=\"dataframe\">\n",
       "  <thead>\n",
       "    <tr style=\"text-align: right;\">\n",
       "      <th></th>\n",
       "      <th>successful</th>\n",
       "      <th>prelaunch_period</th>\n",
       "    </tr>\n",
       "  </thead>\n",
       "  <tbody>\n",
       "    <tr>\n",
       "      <th>0</th>\n",
       "      <td>0</td>\n",
       "      <td>34.815287</td>\n",
       "    </tr>\n",
       "    <tr>\n",
       "      <th>1</th>\n",
       "      <td>1</td>\n",
       "      <td>45.868659</td>\n",
       "    </tr>\n",
       "  </tbody>\n",
       "</table>\n",
       "</div>"
      ],
      "text/plain": [
       "   successful  prelaunch_period\n",
       "0           0         34.815287\n",
       "1           1         45.868659"
      ]
     },
     "execution_count": 36,
     "metadata": {},
     "output_type": "execute_result"
    },
    {
     "data": {
      "image/png": "[encoded data removed]",
      "text/plain": [
       "<matplotlib.figure.Figure at 0x26708b67198>"
      ]
     },
     "metadata": {},
     "output_type": "display_data"
    }
   ],
   "source": [
    "column = 'prelaunch_period'\n",
    "g = sns.FacetGrid(df, col='successful')\n",
    "g.map(plt.hist, column, bins=20, normed=True, range=(0, 200))\n",
    "df[[column, 'successful']].groupby(['successful'], as_index=False).mean()"
   ]
  },
  {
   "cell_type": "markdown",
   "metadata": {},
   "source": [
    "It seems successful projects have slightly longer pre-launch period. But this may be because those with longer pre-launch period are better organised?"
   ]
  },
  {
   "cell_type": "code",
   "execution_count": 37,
   "metadata": {},
   "outputs": [
    {
     "data": {
      "text/plain": [
       "count    9.821000e+03\n",
       "mean     2.670844e+04\n",
       "std      2.710011e+05\n",
       "min      7.615334e-01\n",
       "10%      6.000000e+02\n",
       "20%      1.277807e+03\n",
       "30%      2.227447e+03\n",
       "40%      3.500000e+03\n",
       "50%      5.000000e+03\n",
       "60%      7.000000e+03\n",
       "70%      1.000000e+04\n",
       "80%      1.650000e+04\n",
       "90%      3.175648e+04\n",
       "99%      3.500000e+05\n",
       "max      1.500000e+07\n",
       "Name: goal_usd, dtype: float64"
      ]
     },
     "execution_count": 37,
     "metadata": {},
     "output_type": "execute_result"
    }
   ],
   "source": [
    "df['goal_usd'].describe(percentiles=[.1, .2, .3, .4, .5, .6, .7, .8, .9, .99])"
   ]
  },
  {
   "cell_type": "markdown",
   "metadata": {},
   "source": [
    "There is a outlier with 15 million goal..."
   ]
  },
  {
   "cell_type": "code",
   "execution_count": 38,
   "metadata": {},
   "outputs": [
    {
     "data": {
      "text/html": [
       "<div>\n",
       "<style>\n",
       "    .dataframe thead tr:only-child th {\n",
       "        text-align: right;\n",
       "    }\n",
       "\n",
       "    .dataframe thead th {\n",
       "        text-align: left;\n",
       "    }\n",
       "\n",
       "    .dataframe tbody tr th {\n",
       "        vertical-align: top;\n",
       "    }\n",
       "</style>\n",
       "<table border=\"1\" class=\"dataframe\">\n",
       "  <thead>\n",
       "    <tr style=\"text-align: right;\">\n",
       "      <th></th>\n",
       "      <th>successful</th>\n",
       "      <th>goal_usd</th>\n",
       "    </tr>\n",
       "  </thead>\n",
       "  <tbody>\n",
       "    <tr>\n",
       "      <th>0</th>\n",
       "      <td>0</td>\n",
       "      <td>6000.0000</td>\n",
       "    </tr>\n",
       "    <tr>\n",
       "      <th>1</th>\n",
       "      <td>1</td>\n",
       "      <td>3680.1891</td>\n",
       "    </tr>\n",
       "  </tbody>\n",
       "</table>\n",
       "</div>"
      ],
      "text/plain": [
       "   successful   goal_usd\n",
       "0           0  6000.0000\n",
       "1           1  3680.1891"
      ]
     },
     "execution_count": 38,
     "metadata": {},
     "output_type": "execute_result"
    },
    {
     "data": {
      "image/png": "[encoded data removed]",
      "text/plain": [
       "<matplotlib.figure.Figure at 0x26708e31e10>"
      ]
     },
     "metadata": {},
     "output_type": "display_data"
    }
   ],
   "source": [
    "column = 'goal_usd'\n",
    "g = sns.FacetGrid(df, col='successful')\n",
    "g.map(plt.hist, column, bins=20, normed=True, range=(0, 1e5))\n",
    "df[[column, 'successful']].groupby(['successful'], as_index=False).median()"
   ]
  },
  {
   "cell_type": "markdown",
   "metadata": {},
   "source": [
    "Here we look at the median. We find the cheaper goals are more likely to be successful."
   ]
  },
  {
   "cell_type": "markdown",
   "metadata": {},
   "source": [
    "Let's divide goal_usd into 5 bands based on quartiles."
   ]
  },
  {
   "cell_type": "code",
   "execution_count": 39,
   "metadata": {
    "collapsed": true
   },
   "outputs": [],
   "source": [
    "df['goal_usd_band'] = pd.qcut(df['goal_usd'], 5)"
   ]
  },
  {
   "cell_type": "code",
   "execution_count": 40,
   "metadata": {},
   "outputs": [
    {
     "data": {
      "text/html": [
       "<div>\n",
       "<style>\n",
       "    .dataframe thead tr:only-child th {\n",
       "        text-align: right;\n",
       "    }\n",
       "\n",
       "    .dataframe thead th {\n",
       "        text-align: left;\n",
       "    }\n",
       "\n",
       "    .dataframe tbody tr th {\n",
       "        vertical-align: top;\n",
       "    }\n",
       "</style>\n",
       "<table border=\"1\" class=\"dataframe\">\n",
       "  <thead>\n",
       "    <tr style=\"text-align: right;\">\n",
       "      <th></th>\n",
       "      <th>successful</th>\n",
       "      <th>count</th>\n",
       "    </tr>\n",
       "    <tr>\n",
       "      <th>goal_usd_band</th>\n",
       "      <th></th>\n",
       "      <th></th>\n",
       "    </tr>\n",
       "  </thead>\n",
       "  <tbody>\n",
       "    <tr>\n",
       "      <th>(0.761, 1277.807]</th>\n",
       "      <td>0.568448</td>\n",
       "      <td>1965</td>\n",
       "    </tr>\n",
       "    <tr>\n",
       "      <th>(1277.807, 3500.0]</th>\n",
       "      <td>0.538353</td>\n",
       "      <td>2125</td>\n",
       "    </tr>\n",
       "    <tr>\n",
       "      <th>(3500.0, 7000.0]</th>\n",
       "      <td>0.460613</td>\n",
       "      <td>1828</td>\n",
       "    </tr>\n",
       "    <tr>\n",
       "      <th>(7000.0, 16500.0]</th>\n",
       "      <td>0.443872</td>\n",
       "      <td>1942</td>\n",
       "    </tr>\n",
       "    <tr>\n",
       "      <th>(16500.0, 15000000.0]</th>\n",
       "      <td>0.297807</td>\n",
       "      <td>1961</td>\n",
       "    </tr>\n",
       "  </tbody>\n",
       "</table>\n",
       "</div>"
      ],
      "text/plain": [
       "                       successful  count\n",
       "goal_usd_band                           \n",
       "(0.761, 1277.807]        0.568448   1965\n",
       "(1277.807, 3500.0]       0.538353   2125\n",
       "(3500.0, 7000.0]         0.460613   1828\n",
       "(7000.0, 16500.0]        0.443872   1942\n",
       "(16500.0, 15000000.0]    0.297807   1961"
      ]
     },
     "execution_count": 40,
     "metadata": {},
     "output_type": "execute_result"
    }
   ],
   "source": [
    "column = 'goal_usd_band'\n",
    "df_slice = df[[column, 'successful']].groupby([column]).mean().sort_values(by='successful', ascending=False)\n",
    "df_slice['count'] = df[column].value_counts()\n",
    "df_slice"
   ]
  },
  {
   "cell_type": "markdown",
   "metadata": {},
   "source": [
    "Convert goal_usd_band to ordinal values"
   ]
  },
  {
   "cell_type": "code",
   "execution_count": 41,
   "metadata": {
    "collapsed": true
   },
   "outputs": [],
   "source": [
    "df.loc[df.goal_usd <= 1277.807, 'goal_usd_band2'] = 0\n",
    "df.loc[(1277.807 < df.goal_usd) & (df.goal_usd <= 3500 ), 'goal_usd_band2'] = 1\n",
    "df.loc[(3500 < df.goal_usd) & (df.goal_usd <= 7000), 'goal_usd_band2'] = 2\n",
    "df.loc[(7000 < df.goal_usd) & (df.goal_usd <= 16500), 'goal_usd_band2'] = 3\n",
    "df.loc[(16500 < df.goal_usd), 'goal_usd_band2'] = 4"
   ]
  },
  {
   "cell_type": "code",
   "execution_count": 42,
   "metadata": {
    "collapsed": true
   },
   "outputs": [],
   "source": [
    "# Rename\n",
    "df = df.drop('goal_usd_band', axis=1)\n",
    "df = df.rename(columns={'goal_usd_band2': 'goal_usd_band'})"
   ]
  },
  {
   "cell_type": "markdown",
   "metadata": {},
   "source": [
    "**Decisions**\n",
    "\n",
    "Consider prelaunch period and goal_usd for model training."
   ]
  },
  {
   "cell_type": "markdown",
   "metadata": {},
   "source": [
    "## Summary\n",
    "\n",
    "In my initial data analysis, I found that the following features show to correlate strongly with whether success rate:\n",
    "- category (certain categories like design are more likely to be funded)\n",
    "- country (certain countries have historically lower success rate)\n",
    "- goal_usd_band (lower is better)\n",
    "- disable_communication (disable_communication == True is bad)\n",
    "- staff_pick (staff_pick == True is good)\n",
    "\n",
    "Other features have weaker correlations (which may be noise):\n",
    "- launch_season (summer season seem less successful)\n",
    "- launch_weekday (Tue - Thu have slightly higher success rate)\n",
    "\n",
    "Another observation:\n",
    "- Over the years the success rate has gone down (from 59% to around 40%)"
   ]
  },
  {
   "cell_type": "code",
   "execution_count": 43,
   "metadata": {
    "collapsed": true
   },
   "outputs": [],
   "source": [
    "final_df = df.loc[:, ['category', 'country', 'goal_usd_band', 'disable_communication', 'staff_pick',\n",
    "                      'launch_season', 'launch_weekday',\n",
    "                      'successful']]"
   ]
  },
  {
   "cell_type": "markdown",
   "metadata": {},
   "source": [
    "As a final step, I converted categorical variables to ordinal variables for training."
   ]
  },
  {
   "cell_type": "code",
   "execution_count": 44,
   "metadata": {
    "collapsed": true
   },
   "outputs": [],
   "source": [
    "column = 'country'\n",
    "country_to_number = {country: idx  for idx, country in enumerate(final_df[column].unique())}\n",
    "final_df[column] = final_df[column].map(country_to_number).astype(int)"
   ]
  },
  {
   "cell_type": "code",
   "execution_count": 45,
   "metadata": {
    "collapsed": true
   },
   "outputs": [],
   "source": [
    "column = 'category'\n",
    "category_to_number = {category: idx  for idx, category in enumerate(final_df[column].unique())}\n",
    "final_df[column] = final_df[column].map(category_to_number).astype(int)"
   ]
  },
  {
   "cell_type": "code",
   "execution_count": 46,
   "metadata": {},
   "outputs": [
    {
     "data": {
      "text/html": [
       "<div>\n",
       "<style>\n",
       "    .dataframe thead tr:only-child th {\n",
       "        text-align: right;\n",
       "    }\n",
       "\n",
       "    .dataframe thead th {\n",
       "        text-align: left;\n",
       "    }\n",
       "\n",
       "    .dataframe tbody tr th {\n",
       "        vertical-align: top;\n",
       "    }\n",
       "</style>\n",
       "<table border=\"1\" class=\"dataframe\">\n",
       "  <thead>\n",
       "    <tr style=\"text-align: right;\">\n",
       "      <th></th>\n",
       "      <th>category</th>\n",
       "      <th>country</th>\n",
       "      <th>goal_usd_band</th>\n",
       "      <th>disable_communication</th>\n",
       "      <th>staff_pick</th>\n",
       "      <th>launch_season</th>\n",
       "      <th>launch_weekday</th>\n",
       "      <th>successful</th>\n",
       "    </tr>\n",
       "  </thead>\n",
       "  <tbody>\n",
       "    <tr>\n",
       "      <th>0</th>\n",
       "      <td>0</td>\n",
       "      <td>0</td>\n",
       "      <td>4.0</td>\n",
       "      <td>False</td>\n",
       "      <td>False</td>\n",
       "      <td>0</td>\n",
       "      <td>6</td>\n",
       "      <td>0</td>\n",
       "    </tr>\n",
       "    <tr>\n",
       "      <th>1</th>\n",
       "      <td>1</td>\n",
       "      <td>0</td>\n",
       "      <td>4.0</td>\n",
       "      <td>False</td>\n",
       "      <td>False</td>\n",
       "      <td>0</td>\n",
       "      <td>0</td>\n",
       "      <td>0</td>\n",
       "    </tr>\n",
       "    <tr>\n",
       "      <th>2</th>\n",
       "      <td>2</td>\n",
       "      <td>1</td>\n",
       "      <td>4.0</td>\n",
       "      <td>False</td>\n",
       "      <td>False</td>\n",
       "      <td>2</td>\n",
       "      <td>0</td>\n",
       "      <td>0</td>\n",
       "    </tr>\n",
       "    <tr>\n",
       "      <th>3</th>\n",
       "      <td>3</td>\n",
       "      <td>0</td>\n",
       "      <td>0.0</td>\n",
       "      <td>False</td>\n",
       "      <td>False</td>\n",
       "      <td>0</td>\n",
       "      <td>4</td>\n",
       "      <td>1</td>\n",
       "    </tr>\n",
       "    <tr>\n",
       "      <th>4</th>\n",
       "      <td>4</td>\n",
       "      <td>2</td>\n",
       "      <td>0.0</td>\n",
       "      <td>False</td>\n",
       "      <td>False</td>\n",
       "      <td>3</td>\n",
       "      <td>1</td>\n",
       "      <td>0</td>\n",
       "    </tr>\n",
       "  </tbody>\n",
       "</table>\n",
       "</div>"
      ],
      "text/plain": [
       "   category  country  goal_usd_band  disable_communication  staff_pick  \\\n",
       "0         0        0            4.0                  False       False   \n",
       "1         1        0            4.0                  False       False   \n",
       "2         2        1            4.0                  False       False   \n",
       "3         3        0            0.0                  False       False   \n",
       "4         4        2            0.0                  False       False   \n",
       "\n",
       "   launch_season  launch_weekday  successful  \n",
       "0              0               6           0  \n",
       "1              0               0           0  \n",
       "2              2               0           0  \n",
       "3              0               4           1  \n",
       "4              3               1           0  "
      ]
     },
     "execution_count": 46,
     "metadata": {},
     "output_type": "execute_result"
    }
   ],
   "source": [
    "final_df.head()"
   ]
  },
  {
   "cell_type": "markdown",
   "metadata": {},
   "source": [
    "# Model training and prediction"
   ]
  },
  {
   "cell_type": "code",
   "execution_count": 47,
   "metadata": {
    "collapsed": true
   },
   "outputs": [],
   "source": [
    "from sklearn.linear_model import LogisticRegression\n",
    "from sklearn.svm import SVC, LinearSVC\n",
    "from sklearn.ensemble import RandomForestClassifier\n",
    "from sklearn.neighbors import KNeighborsClassifier\n",
    "from sklearn.naive_bayes import GaussianNB\n",
    "from sklearn.linear_model import Perceptron\n",
    "from sklearn.linear_model import SGDClassifier\n",
    "from sklearn.tree import DecisionTreeClassifier"
   ]
  },
  {
   "cell_type": "markdown",
   "metadata": {},
   "source": [
    "I used a variety of supervised learning algorithm from scikitlearn for this problem with 10-fold cross-validation."
   ]
  },
  {
   "cell_type": "code",
   "execution_count": 48,
   "metadata": {
    "collapsed": true
   },
   "outputs": [],
   "source": [
    "data = final_df.drop('successful', axis=1)\n",
    "target = final_df['successful']"
   ]
  },
  {
   "cell_type": "code",
   "execution_count": 49,
   "metadata": {},
   "outputs": [
    {
     "name": "stdout",
     "output_type": "stream",
     "text": [
      "Accuracy: 0.65 (+/- 0.04)\n"
     ]
    }
   ],
   "source": [
    "from sklearn.model_selection import cross_val_score\n",
    "clf = LogisticRegression()\n",
    "scores = cross_val_score(clf, data, target, cv=10)\n",
    "print(\"Accuracy: %0.2f (+/- %0.2f)\" % (scores.mean(), scores.std() * 2))"
   ]
  },
  {
   "cell_type": "markdown",
   "metadata": {},
   "source": [
    "To analyze the importance of each feature, I performed logistic regression on a single train/test data split and look at the correlation."
   ]
  },
  {
   "cell_type": "code",
   "execution_count": 50,
   "metadata": {},
   "outputs": [
    {
     "data": {
      "text/plain": [
       "0.62156663275686674"
      ]
     },
     "execution_count": 50,
     "metadata": {},
     "output_type": "execute_result"
    }
   ],
   "source": [
    "from sklearn.model_selection import train_test_split\n",
    "X_train, X_test, y_train, y_test = train_test_split(data, target, test_size=0.1)\n",
    "logreg = LogisticRegression()\n",
    "logreg.fit(X_train, y_train)\n",
    "logreg.score(X_test, y_test)"
   ]
  },
  {
   "cell_type": "code",
   "execution_count": 51,
   "metadata": {},
   "outputs": [
    {
     "data": {
      "text/html": [
       "<div>\n",
       "<style>\n",
       "    .dataframe thead tr:only-child th {\n",
       "        text-align: right;\n",
       "    }\n",
       "\n",
       "    .dataframe thead th {\n",
       "        text-align: left;\n",
       "    }\n",
       "\n",
       "    .dataframe tbody tr th {\n",
       "        vertical-align: top;\n",
       "    }\n",
       "</style>\n",
       "<table border=\"1\" class=\"dataframe\">\n",
       "  <thead>\n",
       "    <tr style=\"text-align: right;\">\n",
       "      <th></th>\n",
       "      <th>Feature</th>\n",
       "      <th>Correlation</th>\n",
       "    </tr>\n",
       "  </thead>\n",
       "  <tbody>\n",
       "    <tr>\n",
       "      <th>4</th>\n",
       "      <td>launch_season</td>\n",
       "      <td>2.421113</td>\n",
       "    </tr>\n",
       "    <tr>\n",
       "      <th>5</th>\n",
       "      <td>launch_weekday</td>\n",
       "      <td>0.020035</td>\n",
       "    </tr>\n",
       "    <tr>\n",
       "      <th>0</th>\n",
       "      <td>country</td>\n",
       "      <td>-0.015901</td>\n",
       "    </tr>\n",
       "    <tr>\n",
       "      <th>1</th>\n",
       "      <td>goal_usd_band</td>\n",
       "      <td>-0.064499</td>\n",
       "    </tr>\n",
       "    <tr>\n",
       "      <th>2</th>\n",
       "      <td>disable_communication</td>\n",
       "      <td>-0.355609</td>\n",
       "    </tr>\n",
       "    <tr>\n",
       "      <th>3</th>\n",
       "      <td>staff_pick</td>\n",
       "      <td>-2.358665</td>\n",
       "    </tr>\n",
       "  </tbody>\n",
       "</table>\n",
       "</div>"
      ],
      "text/plain": [
       "                 Feature  Correlation\n",
       "4          launch_season     2.421113\n",
       "5         launch_weekday     0.020035\n",
       "0                country    -0.015901\n",
       "1          goal_usd_band    -0.064499\n",
       "2  disable_communication    -0.355609\n",
       "3             staff_pick    -2.358665"
      ]
     },
     "execution_count": 51,
     "metadata": {},
     "output_type": "execute_result"
    }
   ],
   "source": [
    "coeff_df = pd.DataFrame(data.columns.delete(0))\n",
    "coeff_df.columns = ['Feature']\n",
    "coeff_df[\"Correlation\"] = pd.Series(logreg.coef_[0])\n",
    "\n",
    "coeff_df.sort_values(by='Correlation', ascending=False)"
   ]
  },
  {
   "cell_type": "markdown",
   "metadata": {},
   "source": [
    "It appears that launch_season has the highest correlation."
   ]
  },
  {
   "cell_type": "code",
   "execution_count": 52,
   "metadata": {},
   "outputs": [
    {
     "name": "stdout",
     "output_type": "stream",
     "text": [
      "Accuracy: 0.66 (+/- 0.03)\n"
     ]
    }
   ],
   "source": [
    "# Support vector machine\n",
    "clf = SVC()\n",
    "scores = cross_val_score(clf, data, target, cv=10)\n",
    "print(\"Accuracy: %0.2f (+/- %0.2f)\" % (scores.mean(), scores.std() * 2))"
   ]
  },
  {
   "cell_type": "code",
   "execution_count": 53,
   "metadata": {},
   "outputs": [
    {
     "name": "stdout",
     "output_type": "stream",
     "text": [
      "Accuracy: 0.63 (+/- 0.04)\n"
     ]
    }
   ],
   "source": [
    "# k-nearest-neighbour\n",
    "clf = KNeighborsClassifier(n_neighbors = 10)\n",
    "scores = cross_val_score(clf, data, target, cv=10)\n",
    "print(\"Accuracy: %0.2f (+/- %0.2f)\" % (scores.mean(), scores.std() * 2))"
   ]
  },
  {
   "cell_type": "code",
   "execution_count": 54,
   "metadata": {},
   "outputs": [
    {
     "name": "stdout",
     "output_type": "stream",
     "text": [
      "Accuracy: 0.48 (+/- 0.01)\n"
     ]
    }
   ],
   "source": [
    "# Gaussian Naive Bayesian\n",
    "clf = GaussianNB()\n",
    "scores = cross_val_score(clf, data, target, cv=10)\n",
    "print(\"Accuracy: %0.2f (+/- %0.2f)\" % (scores.mean(), scores.std() * 2))"
   ]
  },
  {
   "cell_type": "code",
   "execution_count": 55,
   "metadata": {},
   "outputs": [
    {
     "name": "stdout",
     "output_type": "stream",
     "text": [
      "Accuracy: 0.62 (+/- 0.03)\n"
     ]
    }
   ],
   "source": [
    "# Decision Tree Classifier\n",
    "clf = DecisionTreeClassifier()\n",
    "scores = cross_val_score(clf, data, target, cv=10)\n",
    "print(\"Accuracy: %0.2f (+/- %0.2f)\" % (scores.mean(), scores.std() * 2))"
   ]
  },
  {
   "cell_type": "code",
   "execution_count": 56,
   "metadata": {},
   "outputs": [
    {
     "name": "stdout",
     "output_type": "stream",
     "text": [
      "Accuracy: 0.64 (+/- 0.03)\n"
     ]
    }
   ],
   "source": [
    "# Random Forest\n",
    "clf = RandomForestClassifier(n_estimators=100)\n",
    "scores = cross_val_score(clf, data, target, cv=10)\n",
    "print(\"Accuracy: %0.2f (+/- %0.2f)\" % (scores.mean(), scores.std() * 2))"
   ]
  },
  {
   "cell_type": "code",
   "execution_count": 57,
   "metadata": {
    "collapsed": true
   },
   "outputs": [],
   "source": [
    "from sklearn.metrics import make_scorer, accuracy_score\n",
    "from sklearn.model_selection import GridSearchCV\n",
    "\n",
    "clf = RandomForestClassifier()\n",
    "\n",
    "# Hyperparameter tuning\n",
    "parameters = {'n_estimators': [4, 6, 9], \n",
    "              'max_features': ['log2', 'sqrt','auto'], \n",
    "              'criterion': ['entropy', 'gini'],\n",
    "              'max_depth': [2, 3, 5, 10], \n",
    "              'min_samples_split': [2, 3, 5],\n",
    "              'min_samples_leaf': [1,5,8]\n",
    "             }\n",
    "\n",
    "# Type of scoring used to compare parameter combinations\n",
    "acc_scorer = make_scorer(accuracy_score)\n",
    "\n",
    "# Run the grid search\n",
    "grid_obj = GridSearchCV(clf, parameters, scoring=acc_scorer)\n",
    "grid_obj = grid_obj.fit(X_train, y_train)"
   ]
  },
  {
   "cell_type": "code",
   "execution_count": 58,
   "metadata": {},
   "outputs": [
    {
     "name": "stdout",
     "output_type": "stream",
     "text": [
      "Accuracy: 0.67 (+/- 0.04)\n"
     ]
    }
   ],
   "source": [
    "clf = grid_obj.best_estimator_\n",
    "scores = cross_val_score(clf, data, target, cv=10)\n",
    "print(\"Accuracy: %0.2f (+/- %0.2f)\" % (scores.mean(), scores.std() * 2))"
   ]
  },
  {
   "cell_type": "markdown",
   "metadata": {
    "collapsed": true
   },
   "source": [
    "SVC and RF seem to do the best."
   ]
  },
  {
   "cell_type": "markdown",
   "metadata": {},
   "source": [
    "Feature importance for RF: "
   ]
  },
  {
   "cell_type": "code",
   "execution_count": 59,
   "metadata": {},
   "outputs": [
    {
     "data": {
      "image/png": "[encoded data removed]",
      "text/plain": [
       "<matplotlib.figure.Figure at 0x26708c4c828>"
      ]
     },
     "metadata": {},
     "output_type": "display_data"
    }
   ],
   "source": [
    "features = data.columns\n",
    "importances = clf.feature_importances_\n",
    "indices = np.argsort(importances)\n",
    "\n",
    "plt.title('Feature Importances')\n",
    "plt.barh(range(len(indices)), importances[indices], color='b', align='center')\n",
    "plt.yticks(range(len(indices)), features[indices])\n",
    "plt.xlabel('Relative Importance')\n",
    "plt.show()"
   ]
  },
  {
   "cell_type": "markdown",
   "metadata": {},
   "source": [
    "The three most important features are:\n",
    "- staff_pick: Whether kickstarter staff promotes the project\n",
    "- category: The category of the project\n",
    "- goal_usd_band: How much money the project is looking to raise."
   ]
  },
  {
   "cell_type": "markdown",
   "metadata": {},
   "source": [
    "ROC curve"
   ]
  },
  {
   "cell_type": "code",
   "execution_count": null,
   "metadata": {
    "collapsed": true
   },
   "outputs": [],
   "source": [
    "X = data.as_matrix()\n",
    "y = target.as_matrix()"
   ]
  },
  {
   "cell_type": "code",
   "execution_count": 63,
   "metadata": {},
   "outputs": [
    {
     "data": {
      "image/png": "[encoded data removed]",
      "text/plain": [
       "<matplotlib.figure.Figure at 0x26719838a90>"
      ]
     },
     "metadata": {},
     "output_type": "display_data"
    }
   ],
   "source": [
    "import numpy as np\n",
    "from scipy import interp\n",
    "import matplotlib.pyplot as plt\n",
    "from itertools import cycle\n",
    "\n",
    "from sklearn import svm, datasets\n",
    "from sklearn.metrics import roc_curve, auc\n",
    "from sklearn.model_selection import StratifiedKFold\n",
    "\n",
    "X = data.as_matrix()\n",
    "y = target.as_matrix()\n",
    "\n",
    "# Run classifier with cross-validation and plot ROC curves\n",
    "cv = StratifiedKFold(n_splits=10)\n",
    "\n",
    "tprs = []\n",
    "aucs = []\n",
    "mean_fpr = np.linspace(0, 1, 100)\n",
    "\n",
    "i = 0\n",
    "fig, ax = plt.subplots(figsize=(16, 8))\n",
    "for train, test in cv.split(X, y):\n",
    "    probas_ = clf.fit(X[train], y[train]).predict_proba(X[test])\n",
    "    # Compute ROC curve and area the curve\n",
    "    fpr, tpr, thresholds = roc_curve(y[test], probas_[:, 1])\n",
    "    tprs.append(interp(mean_fpr, fpr, tpr))\n",
    "    tprs[-1][0] = 0.0\n",
    "    roc_auc = auc(fpr, tpr)\n",
    "    aucs.append(roc_auc)\n",
    "    plt.plot(fpr, tpr, lw=1, alpha=0.3,\n",
    "             label='ROC fold %d (AUC = %0.2f)' % (i, roc_auc))\n",
    "\n",
    "    i += 1\n",
    "plt.plot([0, 1], [0, 1], linestyle='--', lw=2, color='r',\n",
    "         label='Pure Chance', alpha=.8)\n",
    "\n",
    "mean_tpr = np.mean(tprs, axis=0)\n",
    "mean_tpr[-1] = 1.0\n",
    "mean_auc = auc(mean_fpr, mean_tpr)\n",
    "std_auc = np.std(aucs)\n",
    "plt.plot(mean_fpr, mean_tpr, color='b',\n",
    "         label=r'Mean ROC (AUC = %0.2f $\\pm$ %0.2f)' % (mean_auc, std_auc),\n",
    "         lw=2, alpha=.8)\n",
    "\n",
    "std_tpr = np.std(tprs, axis=0)\n",
    "tprs_upper = np.minimum(mean_tpr + std_tpr, 1)\n",
    "tprs_lower = np.maximum(mean_tpr - std_tpr, 0)\n",
    "plt.fill_between(mean_fpr, tprs_lower, tprs_upper, color='grey', alpha=.2,\n",
    "                 label=r'$\\pm$ 1 std. dev.')\n",
    "\n",
    "plt.xlim([-0.05, 1.05])\n",
    "plt.ylim([-0.05, 1.05])\n",
    "plt.xlabel('False Positive Rate')\n",
    "plt.ylabel('True Positive Rate')\n",
    "plt.title('Receiver operating characteristic example')\n",
    "plt.legend(loc=\"lower right\")\n",
    "plt.show()"
   ]
  },
  {
   "cell_type": "markdown",
   "metadata": {},
   "source": [
    "The AUC (Area under curve) is 0.73. "
   ]
  },
  {
   "cell_type": "markdown",
   "metadata": {},
   "source": [
    "# Conclusions\n",
    "\n",
    "I have used random forest classifier to predict whether a kickstarter project will be successful or not, which can predict with 65\\% accuracy.\n",
    "\n",
    "Based on feature importance, the three most important factors that influence whether a project will be funded is whether staff promotes the project, the category of the project and the funding goal.\n",
    "\n",
    "Through exploratory data analysis, I have also found that projects launched in the summer seasons are on average less successful. The origin country of the project matters as well, with non-american projects being less likely to be funded. "
   ]
  },
  {
   "cell_type": "code",
   "execution_count": 64,
   "metadata": {
    "collapsed": true
   },
   "outputs": [],
   "source": []
  }
 ],
 "metadata": {
  "kernelspec": {
   "display_name": "Python 3",
   "language": "python",
   "name": "python3"
  },
  "language_info": {
   "codemirror_mode": {
    "name": "ipython",
    "version": 3
   },
   "file_extension": ".py",
   "mimetype": "text/x-python",
   "name": "python",
   "nbconvert_exporter": "python",
   "pygments_lexer": "ipython3",
   "version": "3.6.1"
  }
 },
 "nbformat": 4,
 "nbformat_minor": 2
}
